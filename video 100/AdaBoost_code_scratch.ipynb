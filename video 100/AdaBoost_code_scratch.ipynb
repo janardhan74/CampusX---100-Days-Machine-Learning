{
 "cells": [
  {
   "cell_type": "code",
   "execution_count": 78,
   "id": "61dc7c63-116b-4737-8bcf-4c4fa5976a12",
   "metadata": {},
   "outputs": [],
   "source": [
    "import pandas as pd\n",
    "import numpy as np\n",
    "import warnings\n",
    "warnings.filterwarnings('ignore')"
   ]
  },
  {
   "cell_type": "code",
   "execution_count": 2,
   "id": "dcc788db-b10e-4ca0-bc77-5df932eab7d0",
   "metadata": {},
   "outputs": [],
   "source": [
    "df = pd.DataFrame()"
   ]
  },
  {
   "cell_type": "code",
   "execution_count": 3,
   "id": "c6db7923-c65f-4415-a40b-cf091ba7f711",
   "metadata": {},
   "outputs": [],
   "source": [
    "df['X1'] = [1,2,3,4,5,6,6,7,9,9]\n",
    "df['X2'] = [5,3,6,8,1,9,5,8,9,2]\n",
    "df['label'] = [1,1,0,1,0,1,0,1,0,0]"
   ]
  },
  {
   "cell_type": "code",
   "execution_count": 4,
   "id": "24736a53-8970-4ae7-a926-39f734d286c8",
   "metadata": {},
   "outputs": [
    {
     "data": {
      "text/html": [
       "<div>\n",
       "<style scoped>\n",
       "    .dataframe tbody tr th:only-of-type {\n",
       "        vertical-align: middle;\n",
       "    }\n",
       "\n",
       "    .dataframe tbody tr th {\n",
       "        vertical-align: top;\n",
       "    }\n",
       "\n",
       "    .dataframe thead th {\n",
       "        text-align: right;\n",
       "    }\n",
       "</style>\n",
       "<table border=\"1\" class=\"dataframe\">\n",
       "  <thead>\n",
       "    <tr style=\"text-align: right;\">\n",
       "      <th></th>\n",
       "      <th>X1</th>\n",
       "      <th>X2</th>\n",
       "      <th>label</th>\n",
       "    </tr>\n",
       "  </thead>\n",
       "  <tbody>\n",
       "    <tr>\n",
       "      <th>0</th>\n",
       "      <td>1</td>\n",
       "      <td>5</td>\n",
       "      <td>1</td>\n",
       "    </tr>\n",
       "    <tr>\n",
       "      <th>1</th>\n",
       "      <td>2</td>\n",
       "      <td>3</td>\n",
       "      <td>1</td>\n",
       "    </tr>\n",
       "    <tr>\n",
       "      <th>2</th>\n",
       "      <td>3</td>\n",
       "      <td>6</td>\n",
       "      <td>0</td>\n",
       "    </tr>\n",
       "    <tr>\n",
       "      <th>3</th>\n",
       "      <td>4</td>\n",
       "      <td>8</td>\n",
       "      <td>1</td>\n",
       "    </tr>\n",
       "    <tr>\n",
       "      <th>4</th>\n",
       "      <td>5</td>\n",
       "      <td>1</td>\n",
       "      <td>0</td>\n",
       "    </tr>\n",
       "    <tr>\n",
       "      <th>5</th>\n",
       "      <td>6</td>\n",
       "      <td>9</td>\n",
       "      <td>1</td>\n",
       "    </tr>\n",
       "    <tr>\n",
       "      <th>6</th>\n",
       "      <td>6</td>\n",
       "      <td>5</td>\n",
       "      <td>0</td>\n",
       "    </tr>\n",
       "    <tr>\n",
       "      <th>7</th>\n",
       "      <td>7</td>\n",
       "      <td>8</td>\n",
       "      <td>1</td>\n",
       "    </tr>\n",
       "    <tr>\n",
       "      <th>8</th>\n",
       "      <td>9</td>\n",
       "      <td>9</td>\n",
       "      <td>0</td>\n",
       "    </tr>\n",
       "    <tr>\n",
       "      <th>9</th>\n",
       "      <td>9</td>\n",
       "      <td>2</td>\n",
       "      <td>0</td>\n",
       "    </tr>\n",
       "  </tbody>\n",
       "</table>\n",
       "</div>"
      ],
      "text/plain": [
       "   X1  X2  label\n",
       "0   1   5      1\n",
       "1   2   3      1\n",
       "2   3   6      0\n",
       "3   4   8      1\n",
       "4   5   1      0\n",
       "5   6   9      1\n",
       "6   6   5      0\n",
       "7   7   8      1\n",
       "8   9   9      0\n",
       "9   9   2      0"
      ]
     },
     "execution_count": 4,
     "metadata": {},
     "output_type": "execute_result"
    }
   ],
   "source": [
    "df"
   ]
  },
  {
   "cell_type": "code",
   "execution_count": 166,
   "id": "18752d5e-5182-4994-a033-6111f3e1f7e6",
   "metadata": {},
   "outputs": [],
   "source": [
    "\n",
    "\n",
    "class AdaBoost:\n",
    "    def __init__(self):\n",
    "        pass\n",
    "    def row_weights(row,alpha):\n",
    "        if row['label'] == row['y_pred']:\n",
    "            return row['weight']*np.exp(-alpha)\n",
    "        else:\n",
    "            return row['weight']*np.ex(alpha)\n",
    "    def fit(self,df):\n",
    "        decision_stumps = list()\n",
    "        alphas = list()\n",
    "        for _ in range(3):\n",
    "            # intilaising weights\n",
    "            df.shape[0]\n",
    "            df['weight'] = 1/df.shape[0]\n",
    "            # creating decision stump\n",
    "            dt = DecisionTreeClassifier(max_depth=1)\n",
    "            dt.fit(df[['X1','X2']].values,df[['label']].values)\n",
    "            # predict the output by decision stump\n",
    "            df['y_pred'] = dt.predict(df[['X1','X2']].values)\n",
    "            # calculating error\n",
    "            error = (df[df['y_pred']!=df['label']]['weight']).values.sum()\n",
    "            # caluclating weight of stage\n",
    "            alpha = 0.5*np.log((1-error)/(error+0.00001))\n",
    "            # print(alpha)\n",
    "            alphas.append(alpha)\n",
    "            decision_stumps.append(dt)\n",
    "            # updating weights\n",
    "            df['weight_updated'] = df.apply(lambda row : row['weight']*(np.exp(-alpha) if row['label'] == row['y_pred'] else np.exp(alpha)),axis=1)\n",
    "            sum_weight = df['weight_updated'].sum()\n",
    "            df['weight_updated'] /= df['weight_updated'].sum() # normalising weights\n",
    "            df['upper_lmt'] = np.cumsum(df['weight_updated'])\n",
    "            df['lower_lmt'] = df['upper_lmt'] - df['weight_updated']\n",
    "            # print(df)\n",
    "            indexes = []\n",
    "            for i in range(df.shape[0]):\n",
    "                val = np.random.random()\n",
    "                for idx in range(df.shape[0]):\n",
    "                    # print(idx)\n",
    "                    if df.loc[idx,'lower_lmt'] <= val < df.loc[idx,'upper_lmt']:\n",
    "                        indexes.append(idx)\n",
    "            df = df.loc[indexes,['X1','X2','label']]\n",
    "            df.reset_index(inplace=True)\n",
    "        self.decision_stumps_ = decision_stumps\n",
    "        self.alphas_ = alphas    \n",
    "        print(alphas)\n",
    "    def predict(self,x):\n",
    "        h_x = np.zeros(x.shape[0])\n",
    "        # print(self.alphas_)\n",
    "        for alpha,dt in zip(self.alphas_,self.decision_stumps_):\n",
    "            h_x += alpha*dt.predict(x)\n",
    "        print(h_x)\n",
    "        h_x = np.sign(h_x)\n",
    "        for i in range(h_x.shape[0]):\n",
    "            if h_x[i] == -1.0:\n",
    "                h_x[i] = 0\n",
    "        print(h_x)"
   ]
  },
  {
   "cell_type": "code",
   "execution_count": 91,
   "id": "db416eb1-a079-4dce-88a9-a715c91676ed",
   "metadata": {},
   "outputs": [],
   "source": [
    " df['weight'] = 1/df.shape[0]"
   ]
  },
  {
   "cell_type": "code",
   "execution_count": 92,
   "id": "e27297d1-d235-4ae7-a508-89ff024352c9",
   "metadata": {},
   "outputs": [],
   "source": [
    "from sklearn.tree import DecisionTreeClassifier\n",
    "\n",
    "dt = DecisionTreeClassifier(max_depth=1)\n",
    "dt.fit(df[['X1','X2']].values,df[['label']].values)\n",
    "df['y_pred'] = dt.predict(df[['X1','X2']].values)"
   ]
  },
  {
   "cell_type": "code",
   "execution_count": 93,
   "id": "a361bcfc-7f6c-49d3-b0be-a6f33aa49fda",
   "metadata": {},
   "outputs": [],
   "source": [
    "error = (df[df['y_pred']!=df['label']]['weight']).values.sum()"
   ]
  },
  {
   "cell_type": "code",
   "execution_count": 94,
   "id": "25f633b3-6679-4c97-9ae7-1a14f82d71a6",
   "metadata": {},
   "outputs": [
    {
     "data": {
      "text/html": [
       "<div>\n",
       "<style scoped>\n",
       "    .dataframe tbody tr th:only-of-type {\n",
       "        vertical-align: middle;\n",
       "    }\n",
       "\n",
       "    .dataframe tbody tr th {\n",
       "        vertical-align: top;\n",
       "    }\n",
       "\n",
       "    .dataframe thead th {\n",
       "        text-align: right;\n",
       "    }\n",
       "</style>\n",
       "<table border=\"1\" class=\"dataframe\">\n",
       "  <thead>\n",
       "    <tr style=\"text-align: right;\">\n",
       "      <th></th>\n",
       "      <th>X1</th>\n",
       "      <th>X2</th>\n",
       "      <th>label</th>\n",
       "      <th>weight</th>\n",
       "      <th>y_pred</th>\n",
       "      <th>weight_updated</th>\n",
       "      <th>upper_lmt</th>\n",
       "      <th>lower_lmt</th>\n",
       "    </tr>\n",
       "  </thead>\n",
       "  <tbody>\n",
       "    <tr>\n",
       "      <th>0</th>\n",
       "      <td>1</td>\n",
       "      <td>5</td>\n",
       "      <td>1</td>\n",
       "      <td>0.1</td>\n",
       "      <td>1</td>\n",
       "      <td>0.071429</td>\n",
       "      <td>0.071429</td>\n",
       "      <td>0.000000</td>\n",
       "    </tr>\n",
       "    <tr>\n",
       "      <th>1</th>\n",
       "      <td>2</td>\n",
       "      <td>3</td>\n",
       "      <td>1</td>\n",
       "      <td>0.1</td>\n",
       "      <td>1</td>\n",
       "      <td>0.071429</td>\n",
       "      <td>0.142857</td>\n",
       "      <td>0.071429</td>\n",
       "    </tr>\n",
       "    <tr>\n",
       "      <th>2</th>\n",
       "      <td>3</td>\n",
       "      <td>6</td>\n",
       "      <td>0</td>\n",
       "      <td>0.1</td>\n",
       "      <td>0</td>\n",
       "      <td>0.166667</td>\n",
       "      <td>0.309524</td>\n",
       "      <td>0.142857</td>\n",
       "    </tr>\n",
       "    <tr>\n",
       "      <th>3</th>\n",
       "      <td>4</td>\n",
       "      <td>8</td>\n",
       "      <td>1</td>\n",
       "      <td>0.1</td>\n",
       "      <td>0</td>\n",
       "      <td>0.071429</td>\n",
       "      <td>0.380952</td>\n",
       "      <td>0.309524</td>\n",
       "    </tr>\n",
       "    <tr>\n",
       "      <th>4</th>\n",
       "      <td>5</td>\n",
       "      <td>1</td>\n",
       "      <td>0</td>\n",
       "      <td>0.1</td>\n",
       "      <td>0</td>\n",
       "      <td>0.071429</td>\n",
       "      <td>0.452381</td>\n",
       "      <td>0.380952</td>\n",
       "    </tr>\n",
       "    <tr>\n",
       "      <th>5</th>\n",
       "      <td>6</td>\n",
       "      <td>9</td>\n",
       "      <td>1</td>\n",
       "      <td>0.1</td>\n",
       "      <td>0</td>\n",
       "      <td>0.071429</td>\n",
       "      <td>0.523810</td>\n",
       "      <td>0.452381</td>\n",
       "    </tr>\n",
       "    <tr>\n",
       "      <th>6</th>\n",
       "      <td>6</td>\n",
       "      <td>5</td>\n",
       "      <td>0</td>\n",
       "      <td>0.1</td>\n",
       "      <td>0</td>\n",
       "      <td>0.166667</td>\n",
       "      <td>0.690476</td>\n",
       "      <td>0.523810</td>\n",
       "    </tr>\n",
       "    <tr>\n",
       "      <th>7</th>\n",
       "      <td>7</td>\n",
       "      <td>8</td>\n",
       "      <td>1</td>\n",
       "      <td>0.1</td>\n",
       "      <td>0</td>\n",
       "      <td>0.071429</td>\n",
       "      <td>0.761905</td>\n",
       "      <td>0.690476</td>\n",
       "    </tr>\n",
       "    <tr>\n",
       "      <th>8</th>\n",
       "      <td>9</td>\n",
       "      <td>9</td>\n",
       "      <td>0</td>\n",
       "      <td>0.1</td>\n",
       "      <td>0</td>\n",
       "      <td>0.166667</td>\n",
       "      <td>0.928571</td>\n",
       "      <td>0.761905</td>\n",
       "    </tr>\n",
       "    <tr>\n",
       "      <th>9</th>\n",
       "      <td>9</td>\n",
       "      <td>2</td>\n",
       "      <td>0</td>\n",
       "      <td>0.1</td>\n",
       "      <td>0</td>\n",
       "      <td>0.071429</td>\n",
       "      <td>1.000000</td>\n",
       "      <td>0.928571</td>\n",
       "    </tr>\n",
       "  </tbody>\n",
       "</table>\n",
       "</div>"
      ],
      "text/plain": [
       "   X1  X2  label  weight  y_pred  weight_updated  upper_lmt  lower_lmt\n",
       "0   1   5      1     0.1       1        0.071429   0.071429   0.000000\n",
       "1   2   3      1     0.1       1        0.071429   0.142857   0.071429\n",
       "2   3   6      0     0.1       0        0.166667   0.309524   0.142857\n",
       "3   4   8      1     0.1       0        0.071429   0.380952   0.309524\n",
       "4   5   1      0     0.1       0        0.071429   0.452381   0.380952\n",
       "5   6   9      1     0.1       0        0.071429   0.523810   0.452381\n",
       "6   6   5      0     0.1       0        0.166667   0.690476   0.523810\n",
       "7   7   8      1     0.1       0        0.071429   0.761905   0.690476\n",
       "8   9   9      0     0.1       0        0.166667   0.928571   0.761905\n",
       "9   9   2      0     0.1       0        0.071429   1.000000   0.928571"
      ]
     },
     "execution_count": 94,
     "metadata": {},
     "output_type": "execute_result"
    }
   ],
   "source": [
    "alpha = 0.5*np.log((1-error)/error)\n",
    "df"
   ]
  },
  {
   "cell_type": "code",
   "execution_count": 36,
   "id": "78a0f095-80ec-47cb-98db-b4c2e859eb7f",
   "metadata": {},
   "outputs": [],
   "source": [
    "df['weight_updated'] = df.apply(lambda row : row['weight']*(np.exp(-alpha) if row['label'] == row['y_pred'] else np.exp(alpha)),axis=1)"
   ]
  },
  {
   "cell_type": "code",
   "execution_count": 39,
   "id": "2150bd2c-6b68-4367-96de-086f32d1f001",
   "metadata": {},
   "outputs": [],
   "source": [
    "df['weight_updated'] /= df['weight_updated'].sum()"
   ]
  },
  {
   "cell_type": "code",
   "execution_count": 42,
   "id": "86d1ce87-2b26-42c4-a064-cf0648dbd513",
   "metadata": {},
   "outputs": [],
   "source": [
    "df['upper_lmt'] = np.cumsum(df['weight_updated'])"
   ]
  },
  {
   "cell_type": "code",
   "execution_count": 44,
   "id": "b0fd4d1b-9334-4547-bf53-4611ef5b15b9",
   "metadata": {},
   "outputs": [],
   "source": [
    "df['lower_lmt'] = df['upper_lmt'] - df['weight_updated']"
   ]
  },
  {
   "cell_type": "code",
   "execution_count": 66,
   "id": "37382776-e25b-4f39-86fa-e4b3a5cda66a",
   "metadata": {},
   "outputs": [
    {
     "data": {
      "text/plain": [
       "[6, 2, 1, 8, 4, 4, 2, 5, 6, 7]"
      ]
     },
     "execution_count": 66,
     "metadata": {},
     "output_type": "execute_result"
    }
   ],
   "source": [
    "indexes = []\n",
    "for i in range(df.shape[0]):\n",
    "    val = np.random.random()\n",
    "    for idx in range(df.shape[0]):\n",
    "        # print(idx)\n",
    "        if df.loc[idx,'lower_lmt'] <= val < df.loc[idx,'upper_lmt']:\n",
    "            indexes.append(idx)\n",
    "indexes"
   ]
  },
  {
   "cell_type": "code",
   "execution_count": 56,
   "id": "cf832302-b430-4433-bffb-20082195f8d1",
   "metadata": {},
   "outputs": [
    {
     "data": {
      "text/plain": [
       "0.4236489301936017"
      ]
     },
     "execution_count": 56,
     "metadata": {},
     "output_type": "execute_result"
    }
   ],
   "source": [
    "alpha"
   ]
  },
  {
   "cell_type": "code",
   "execution_count": 168,
   "id": "ec82f9e0-af3f-4bc3-8ea3-41e5c878b87a",
   "metadata": {},
   "outputs": [
    {
     "name": "stdout",
     "output_type": "stream",
     "text": [
      "[0.4236322638047066, 1.0985622911679431, 5.756462732485114]\n",
      "[0.42363226 0.42363226 0.42363226 1.52219455 0.         1.52219455\n",
      " 0.42363226 1.52219455 1.52219455 0.        ]\n",
      "[1. 1. 1. 1. 0. 1. 1. 1. 1. 0.]\n"
     ]
    }
   ],
   "source": [
    "adaboost = AdaBoost()\n",
    "adaboost.fit(df[['X1','X2','label']])\n",
    "adaboost.predict(df[['X1','X2']].values)"
   ]
  },
  {
   "cell_type": "code",
   "execution_count": null,
   "id": "ed643da5-e30c-4e79-b07a-0779525d9656",
   "metadata": {},
   "outputs": [],
   "source": []
  },
  {
   "cell_type": "code",
   "execution_count": null,
   "id": "0084715b-6ea9-4823-a16e-c107f20282ad",
   "metadata": {},
   "outputs": [],
   "source": []
  }
 ],
 "metadata": {
  "kernelspec": {
   "display_name": "Python 3 (ipykernel)",
   "language": "python",
   "name": "python3"
  },
  "language_info": {
   "codemirror_mode": {
    "name": "ipython",
    "version": 3
   },
   "file_extension": ".py",
   "mimetype": "text/x-python",
   "name": "python",
   "nbconvert_exporter": "python",
   "pygments_lexer": "ipython3",
   "version": "3.12.3"
  }
 },
 "nbformat": 4,
 "nbformat_minor": 5
}
