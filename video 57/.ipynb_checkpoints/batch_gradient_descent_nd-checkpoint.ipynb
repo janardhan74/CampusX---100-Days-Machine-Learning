{
 "cells": [
  {
   "cell_type": "code",
   "execution_count": 1,
   "id": "0168ddf4-85e1-4a7a-a65e-5f4d6595e10c",
   "metadata": {},
   "outputs": [],
   "source": [
    "import pandas as pd\n",
    "import numpy as np\n",
    "from sklearn.datasets import load_diabetes\n",
    "from sklearn.metrics import r2_score\n",
    "from sklearn.model_selection import train_test_split\n",
    "from sklearn.linear_model import LinearRegression"
   ]
  },
  {
   "cell_type": "code",
   "execution_count": 2,
   "id": "39c1daab-d54e-4ce5-a0fd-9b57e67163ba",
   "metadata": {},
   "outputs": [],
   "source": [
    "x,y = load_diabetes(return_X_y=True)"
   ]
  },
  {
   "cell_type": "code",
   "execution_count": 3,
   "id": "3f280d61-d137-46f2-8a88-2bd9a3043053",
   "metadata": {},
   "outputs": [
    {
     "data": {
      "text/plain": [
       "(442, 10)"
      ]
     },
     "execution_count": 3,
     "metadata": {},
     "output_type": "execute_result"
    }
   ],
   "source": [
    "x.shape"
   ]
  },
  {
   "cell_type": "code",
   "execution_count": 4,
   "id": "a55ceee6-6cc0-44bc-822b-db69716ea5b9",
   "metadata": {},
   "outputs": [
    {
     "data": {
      "text/plain": [
       "(442,)"
      ]
     },
     "execution_count": 4,
     "metadata": {},
     "output_type": "execute_result"
    }
   ],
   "source": [
    "y.shape"
   ]
  },
  {
   "cell_type": "code",
   "execution_count": 5,
   "id": "ad70fb13-eac4-4873-905b-fcf56897ade9",
   "metadata": {},
   "outputs": [
    {
     "data": {
      "text/plain": [
       "((331, 10), (111, 10))"
      ]
     },
     "execution_count": 5,
     "metadata": {},
     "output_type": "execute_result"
    }
   ],
   "source": [
    "x_train,x_test,y_train,y_test = train_test_split(x,y,random_state=2)\n",
    "x_train.shape,x_test.shape"
   ]
  },
  {
   "cell_type": "code",
   "execution_count": 6,
   "id": "5e84db3c-1847-49e1-862e-e1416f656ae2",
   "metadata": {},
   "outputs": [
    {
     "data": {
      "text/plain": [
       "((331,), (111,))"
      ]
     },
     "execution_count": 6,
     "metadata": {},
     "output_type": "execute_result"
    }
   ],
   "source": [
    "y_train.shape,y_test.shape"
   ]
  },
  {
   "cell_type": "code",
   "execution_count": 7,
   "id": "be224249-d9b2-4124-8edb-3fd43d81390e",
   "metadata": {},
   "outputs": [
    {
     "data": {
      "text/plain": [
       "(array([ -36.49034836, -194.09811575,  513.88593284,  355.02971098,\n",
       "        -891.00370348,  591.68794911,  155.49417805,  146.44668444,\n",
       "         846.85202529,   54.30219759]),\n",
       " 152.65886927494057)"
      ]
     },
     "execution_count": 7,
     "metadata": {},
     "output_type": "execute_result"
    }
   ],
   "source": [
    "lr = LinearRegression()\n",
    "lr.fit(x_train,y_train)\n",
    "lr.coef_,lr.intercept_"
   ]
  },
  {
   "cell_type": "code",
   "execution_count": 8,
   "id": "14e09d91-cd6a-4210-a2c4-69072ba09059",
   "metadata": {},
   "outputs": [
    {
     "data": {
      "text/plain": [
       "0.4429562235529032"
      ]
     },
     "execution_count": 8,
     "metadata": {},
     "output_type": "execute_result"
    }
   ],
   "source": [
    "y_pred = lr.predict(x_test)\n",
    "r2_score(y_test,y_pred)"
   ]
  },
  {
   "cell_type": "code",
   "execution_count": 16,
   "id": "0ca2441e-5805-40e8-b3d5-fbdd4169b382",
   "metadata": {},
   "outputs": [],
   "source": [
    "class GDRegressor:\n",
    "    def __init__(self,learning_rate,epochs):\n",
    "        self.coef_ = None\n",
    "        self.intercept_ = None\n",
    "        self.learning_rate = learning_rate\n",
    "        self.epochs = epochs\n",
    "\n",
    "    def fit(self,x,y):\n",
    "        self.coef_ = np.ones(x.shape[1])\n",
    "        self.intercept_ = 0\n",
    "        \n",
    "        for i in range(self.epochs):\n",
    "            # vectorizationw\n",
    "            y_hat = self.intercept_ + np.dot(x,self.coef_)\n",
    "            intercept_der = -2*np.mean(y-y_hat)\n",
    "            self.intercept_ = self.intercept_ - self.learning_rate * intercept_der\n",
    "\n",
    "            coef_der = -2 * np.dot((y - y_hat),x)/x.shape[0]\n",
    "            # if i==0:\n",
    "            # FOR UNDERSTANDING\n",
    "            #     print((y - y_hat).shape)\n",
    "            #     print(x.shape)\n",
    "            #     print(np.dot((y - y_hat),x))\n",
    "            self.coef_ = self.coef_ - self.learning_rate*coef_der\n",
    "    def predict(self,x):\n",
    "        return np.dot(x,self.coef_)+self.intercept_"
   ]
  },
  {
   "cell_type": "code",
   "execution_count": 56,
   "id": "605d4cc1-58a4-4239-a0ca-7c7917ba323a",
   "metadata": {},
   "outputs": [],
   "source": [
    "gdr = GDRegressor(epochs=1000,learning_rate=0.01)"
   ]
  },
  {
   "cell_type": "code",
   "execution_count": 57,
   "id": "4b44a296-ff30-4c07-a375-7ec1de2251ce",
   "metadata": {},
   "outputs": [
    {
     "name": "stdout",
     "output_type": "stream",
     "text": [
      "The time taken :  0.0769810676574707\n"
     ]
    }
   ],
   "source": [
    "import time\n",
    "start = time.time()\n",
    "gdr.fit(x_train,y_train)\n",
    "print(\"The time taken : \",time.time()-start)"
   ]
  },
  {
   "cell_type": "code",
   "execution_count": 58,
   "id": "1920f393-27b7-4358-9c58-da601823f810",
   "metadata": {},
   "outputs": [],
   "source": [
    "y_pred = gdr.predict(x_test)"
   ]
  },
  {
   "cell_type": "code",
   "execution_count": 59,
   "id": "b669ff43-993a-4bd9-884d-7e8e7ab6cb97",
   "metadata": {},
   "outputs": [
    {
     "data": {
      "text/plain": [
       "0.10792836892679036"
      ]
     },
     "execution_count": 59,
     "metadata": {},
     "output_type": "execute_result"
    }
   ],
   "source": [
    "r2_score(y_test,y_pred)"
   ]
  },
  {
   "cell_type": "code",
   "execution_count": 60,
   "id": "b3ec9288-4e29-4b9d-9e8e-04af759322d4",
   "metadata": {},
   "outputs": [
    {
     "data": {
      "text/plain": [
       "151.48038495127116"
      ]
     },
     "execution_count": 60,
     "metadata": {},
     "output_type": "execute_result"
    }
   ],
   "source": [
    "gdr.intercept_"
   ]
  },
  {
   "cell_type": "code",
   "execution_count": 61,
   "id": "362a230b-26c2-479d-8438-965c910b8b88",
   "metadata": {},
   "outputs": [
    {
     "data": {
      "text/plain": [
       "array([ 16.12544306,   4.1959078 ,  42.01896851,  33.60253244,\n",
       "        15.93523872,  12.65609978, -25.65367345,  29.27258245,\n",
       "        42.25326365,  27.22824941])"
      ]
     },
     "execution_count": 61,
     "metadata": {},
     "output_type": "execute_result"
    }
   ],
   "source": [
    "gdr.coef_"
   ]
  },
  {
   "cell_type": "code",
   "execution_count": 42,
   "id": "ae6a408d-4150-45ae-b9d6-6f3c1ef6f929",
   "metadata": {},
   "outputs": [
    {
     "data": {
      "text/plain": [
       "(1, 5)"
      ]
     },
     "execution_count": 42,
     "metadata": {},
     "output_type": "execute_result"
    }
   ],
   "source": [
    "a = np.array([[1,1,1,1,1]])\n",
    "b = np.array([[1]])\n",
    "np.dot(b,a).shape\n",
    "# b.shape"
   ]
  },
  {
   "cell_type": "code",
   "execution_count": 43,
   "id": "8459ed70-805f-41a0-bde2-7d2a8c291908",
   "metadata": {},
   "outputs": [
    {
     "data": {
      "text/plain": [
       "array([14, 14])"
      ]
     },
     "execution_count": 43,
     "metadata": {},
     "output_type": "execute_result"
    }
   ],
   "source": [
    "a = np.array([1,2,3])\n",
    "b = np.array([[1,2,3],[1,2,3]])\n",
    "np.dot(b,a)"
   ]
  },
  {
   "cell_type": "code",
   "execution_count": 44,
   "id": "0b8854a1-4c07-4da5-8b07-8ea6adf5ce82",
   "metadata": {},
   "outputs": [],
   "source": [
    "# check second param as 1d or not\n",
    "# if 1d no cols in a == no cols in b\n",
    "#     a row in b is multiplied with each row in a\n",
    "# else (2d and 2d ) now cols in a == no rows in b\n",
    "#     first row with first col ......."
   ]
  },
  {
   "cell_type": "code",
   "execution_count": null,
   "id": "2bdf0a88-33f5-4e64-93b7-4ca645b1f5a9",
   "metadata": {},
   "outputs": [],
   "source": []
  },
  {
   "cell_type": "code",
   "execution_count": null,
   "id": "eff302fe-b327-4015-a82b-75f97e9ae4c4",
   "metadata": {},
   "outputs": [],
   "source": []
  }
 ],
 "metadata": {
  "kernelspec": {
   "display_name": "Python 3 (ipykernel)",
   "language": "python",
   "name": "python3"
  },
  "language_info": {
   "codemirror_mode": {
    "name": "ipython",
    "version": 3
   },
   "file_extension": ".py",
   "mimetype": "text/x-python",
   "name": "python",
   "nbconvert_exporter": "python",
   "pygments_lexer": "ipython3",
   "version": "3.12.3"
  }
 },
 "nbformat": 4,
 "nbformat_minor": 5
}
