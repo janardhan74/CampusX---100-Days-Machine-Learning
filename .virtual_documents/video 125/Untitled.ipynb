import pandas as pd


df = pd.read_csv('play_tennis.csv')
df


# Probelm 1
# outlook=sunny, temp = hot,humidity=high,wind=weak
# play or noplay ?


# solution
# p(yes/(sunny,hot,high,weak)) = p(sunny/yes)*p(hot/yes)*p(high/yes)*p(weak/yes)*p(yes)
# p(no/(sunny,hot,high,weak)) = p(sunny/no)*p(hot/no)*p(high/no)*p(weak/no)*p(no)



df['play'].value_counts()


p_yes = 9/14
p_no = 5/14


pd.crosstab(index=df['outlook'],columns=df['play'])


p_overcast_no = 0
p_rain_no = 2/5
p_sunny_no = 3/5

p_overcast_yes = 4/9
p_rain_yes = 3/9
p_sunny_yes = 2/9



pd.crosstab(index=df['temp'],columns=df['play'])


p_cool_no = 1/5
p_hot_no = 2/5
p_mild_no = 2/5

p_cool_yes = 3/9
p_hot_yes = 2/9
p_mild_yes = 4/5


pd.crosstab(index=df['humidity'],columns=df['play'])


p_high_no = 4/5
p_normal_no = 1/5

p_high_yes = 3/9
p_normal_yes = 6/9


pd.crosstab(index=df['wind'],columns=df['play'])



p_strong_no = 3/5
p_weak_no = 2/5

p_strong_yes = 3/9
p_weak_yes = 6/9


# Probelm 1
# outlook=sunny, temp = hot,humidity=high,wind=weak
# play or noplay ?


pred_yes = p_sunny_yes*p_hot_yes*p_high_yes*p_weak_yes
pred_no = p_sunny_no*p_hot_no*p_high_no*p_weak_no


print(pred_yes)
print(pred_no)


# no has high prob
print("no play")



