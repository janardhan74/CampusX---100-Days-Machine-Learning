{
 "cells": [
  {
   "cell_type": "code",
   "execution_count": 1,
   "id": "5d18d664-2360-4286-afb6-f38139b2b28d",
   "metadata": {},
   "outputs": [],
   "source": [
    "import pandas as pd\n",
    "import requests \n",
    "from bs4 import BeautifulSoup"
   ]
  },
  {
   "cell_type": "code",
   "execution_count": null,
   "id": "c36b5342-727d-49bf-ad9d-d22608ef41cb",
   "metadata": {},
   "outputs": [
    {
     "name": "stdout",
     "output_type": "stream",
     "text": [
      "https://www.ambitionbox.com/list-of-companies?campaign=desktop_nav&page=1\n"
     ]
    }
   ],
   "source": [
    "url = \"https://www.ambitionbox.com/list-of-companies?campaign=desktop_nav&page=1\"\n",
    "url2 = \"https://www.google.com?\"\n",
    "page = 1\n",
    "print(url.format(1))\n",
    "headers = {'User-Agent':'Mozilla/5.0 (Windows NT 6.3; Win 64 ; x64) Apple WeKit /537.36(KHTML , like Gecko) Chrome/80.0.3987.162 Safari/537.36'}\n",
    "response = requests.get(url,headers=headers)\n",
    "response"
   ]
  },
  {
   "cell_type": "code",
   "execution_count": null,
   "id": "123efb23-b424-48e0-a154-77e05b555f44",
   "metadata": {},
   "outputs": [],
   "source": []
  }
 ],
 "metadata": {
  "kernelspec": {
   "display_name": "Python 3 (ipykernel)",
   "language": "python",
   "name": "python3"
  },
  "language_info": {
   "codemirror_mode": {
    "name": "ipython",
    "version": 3
   },
   "file_extension": ".py",
   "mimetype": "text/x-python",
   "name": "python",
   "nbconvert_exporter": "python",
   "pygments_lexer": "ipython3",
   "version": "3.11.5"
  }
 },
 "nbformat": 4,
 "nbformat_minor": 5
}
