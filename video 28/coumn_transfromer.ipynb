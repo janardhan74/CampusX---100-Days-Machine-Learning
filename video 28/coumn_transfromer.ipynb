{
 "cells": [
  {
   "cell_type": "code",
   "execution_count": 1,
   "metadata": {},
   "outputs": [],
   "source": [
    "import pandas as pd\n",
    "import numpy as np"
   ]
  },
  {
   "cell_type": "code",
   "execution_count": 8,
   "metadata": {},
   "outputs": [],
   "source": [
    "from sklearn.impute import SimpleImputer\n",
    "from sklearn.preprocessing import OrdinalEncoder\n",
    "from sklearn.preprocessing import OneHotEncoder"
   ]
  },
  {
   "cell_type": "code",
   "execution_count": 2,
   "metadata": {},
   "outputs": [
    {
     "data": {
      "text/html": [
       "<div>\n",
       "<style scoped>\n",
       "    .dataframe tbody tr th:only-of-type {\n",
       "        vertical-align: middle;\n",
       "    }\n",
       "\n",
       "    .dataframe tbody tr th {\n",
       "        vertical-align: top;\n",
       "    }\n",
       "\n",
       "    .dataframe thead th {\n",
       "        text-align: right;\n",
       "    }\n",
       "</style>\n",
       "<table border=\"1\" class=\"dataframe\">\n",
       "  <thead>\n",
       "    <tr style=\"text-align: right;\">\n",
       "      <th></th>\n",
       "      <th>age</th>\n",
       "      <th>gender</th>\n",
       "      <th>fever</th>\n",
       "      <th>cough</th>\n",
       "      <th>city</th>\n",
       "      <th>has_covid</th>\n",
       "    </tr>\n",
       "  </thead>\n",
       "  <tbody>\n",
       "    <tr>\n",
       "      <th>0</th>\n",
       "      <td>60</td>\n",
       "      <td>Male</td>\n",
       "      <td>103.0</td>\n",
       "      <td>Mild</td>\n",
       "      <td>Kolkata</td>\n",
       "      <td>No</td>\n",
       "    </tr>\n",
       "    <tr>\n",
       "      <th>1</th>\n",
       "      <td>27</td>\n",
       "      <td>Male</td>\n",
       "      <td>100.0</td>\n",
       "      <td>Mild</td>\n",
       "      <td>Delhi</td>\n",
       "      <td>Yes</td>\n",
       "    </tr>\n",
       "    <tr>\n",
       "      <th>2</th>\n",
       "      <td>42</td>\n",
       "      <td>Male</td>\n",
       "      <td>101.0</td>\n",
       "      <td>Mild</td>\n",
       "      <td>Delhi</td>\n",
       "      <td>No</td>\n",
       "    </tr>\n",
       "    <tr>\n",
       "      <th>3</th>\n",
       "      <td>31</td>\n",
       "      <td>Female</td>\n",
       "      <td>98.0</td>\n",
       "      <td>Mild</td>\n",
       "      <td>Kolkata</td>\n",
       "      <td>No</td>\n",
       "    </tr>\n",
       "    <tr>\n",
       "      <th>4</th>\n",
       "      <td>65</td>\n",
       "      <td>Female</td>\n",
       "      <td>101.0</td>\n",
       "      <td>Mild</td>\n",
       "      <td>Mumbai</td>\n",
       "      <td>No</td>\n",
       "    </tr>\n",
       "  </tbody>\n",
       "</table>\n",
       "</div>"
      ],
      "text/plain": [
       "   age  gender  fever cough     city has_covid\n",
       "0   60    Male  103.0  Mild  Kolkata        No\n",
       "1   27    Male  100.0  Mild    Delhi       Yes\n",
       "2   42    Male  101.0  Mild    Delhi        No\n",
       "3   31  Female   98.0  Mild  Kolkata        No\n",
       "4   65  Female  101.0  Mild   Mumbai        No"
      ]
     },
     "execution_count": 2,
     "metadata": {},
     "output_type": "execute_result"
    }
   ],
   "source": [
    "df = pd.read_csv('covid_toy.csv')\n",
    "df.head()"
   ]
  },
  {
   "cell_type": "code",
   "execution_count": 3,
   "metadata": {},
   "outputs": [
    {
     "data": {
      "text/plain": [
       "age           0\n",
       "gender        0\n",
       "fever        10\n",
       "cough         0\n",
       "city          0\n",
       "has_covid     0\n",
       "dtype: int64"
      ]
     },
     "execution_count": 3,
     "metadata": {},
     "output_type": "execute_result"
    }
   ],
   "source": [
    "df.isnull().sum()"
   ]
  },
  {
   "cell_type": "code",
   "execution_count": 10,
   "metadata": {},
   "outputs": [
    {
     "data": {
      "text/plain": [
       "cough \n",
       "Mild      62\n",
       "Strong    38\n",
       "Name: count, dtype: int64"
      ]
     },
     "execution_count": 10,
     "metadata": {},
     "output_type": "execute_result"
    }
   ],
   "source": [
    "df[['cough']].value_counts()"
   ]
  },
  {
   "cell_type": "code",
   "execution_count": 4,
   "metadata": {},
   "outputs": [
    {
     "data": {
      "text/plain": [
       "gender\n",
       "Female    59\n",
       "Male      41\n",
       "Name: count, dtype: int64"
      ]
     },
     "execution_count": 4,
     "metadata": {},
     "output_type": "execute_result"
    }
   ],
   "source": [
    "df[['gender']].value_counts()"
   ]
  },
  {
   "cell_type": "code",
   "execution_count": 5,
   "metadata": {},
   "outputs": [
    {
     "data": {
      "text/plain": [
       "cough \n",
       "Mild      62\n",
       "Strong    38\n",
       "Name: count, dtype: int64"
      ]
     },
     "execution_count": 5,
     "metadata": {},
     "output_type": "execute_result"
    }
   ],
   "source": [
    "df[['cough']].value_counts()"
   ]
  },
  {
   "cell_type": "code",
   "execution_count": 6,
   "metadata": {},
   "outputs": [
    {
     "data": {
      "text/plain": [
       "city     \n",
       "Kolkata      32\n",
       "Bangalore    30\n",
       "Delhi        22\n",
       "Mumbai       16\n",
       "Name: count, dtype: int64"
      ]
     },
     "execution_count": 6,
     "metadata": {},
     "output_type": "execute_result"
    }
   ],
   "source": [
    "df[['city']].value_counts()"
   ]
  },
  {
   "cell_type": "code",
   "execution_count": 7,
   "metadata": {},
   "outputs": [],
   "source": [
    "# age -> nothing\n",
    "# gender -> on hot encoding\n",
    "# fever -> simple imuper for missing values \n",
    "# cough -> ordinal encoding\n",
    "# city -> one hot encoding \n"
   ]
  },
  {
   "cell_type": "code",
   "execution_count": 11,
   "metadata": {},
   "outputs": [],
   "source": [
    "from sklearn.model_selection import train_test_split\n",
    "x = df.drop(['has_covid'],axis=1)\n",
    "y = df[['has_covid']]\n",
    "x_train,x_test,y_train,y_test = train_test_split(x,y,test_size=0.3)"
   ]
  },
  {
   "cell_type": "markdown",
   "metadata": {},
   "source": [
    "### manual way of transforming"
   ]
  },
  {
   "cell_type": "code",
   "execution_count": 12,
   "metadata": {},
   "outputs": [],
   "source": [
    "# simple impiting\n",
    "imputer = SimpleImputer()\n",
    "x_train_fever = imputer.fit_transform(x_train[['fever']])\n",
    "x_test_fever = imputer.fit_transform(x_test[['fever']])"
   ]
  },
  {
   "cell_type": "code",
   "execution_count": 19,
   "metadata": {},
   "outputs": [],
   "source": [
    "ordE = OrdinalEncoder(categories=[['Mild','Strong']])\n",
    "x_train_cough = ordE.fit_transform(x_train[['cough']])\n",
    "x_test_cough = ordE.fit_transform(x_test[['cough']])\n"
   ]
  },
  {
   "cell_type": "code",
   "execution_count": 21,
   "metadata": {},
   "outputs": [],
   "source": [
    "\n",
    "ohe = OneHotEncoder(dtype='int',sparse_output=False,drop='first')\n",
    "x_train_gender_city =  ohe.fit_transform(x_train[['gender','city']])\n",
    "x_test_gender_city = ohe.fit_transform(x_test[['gender','city']])\n"
   ]
  },
  {
   "cell_type": "code",
   "execution_count": 23,
   "metadata": {},
   "outputs": [
    {
     "data": {
      "text/plain": [
       "array([[  0.        , 104.        ,   1.        ,   0.        ,\n",
       "          0.        ,   1.        ],\n",
       "       [  0.        , 104.        ,   1.        ,   0.        ,\n",
       "          0.        ,   1.        ],\n",
       "       [  0.        , 102.        ,   1.        ,   0.        ,\n",
       "          0.        ,   1.        ],\n",
       "       [  0.        ,  98.        ,   1.        ,   0.        ,\n",
       "          1.        ,   0.        ],\n",
       "       [  0.        , 103.        ,   0.        ,   0.        ,\n",
       "          1.        ,   0.        ],\n",
       "       [  1.        ,  98.        ,   0.        ,   0.        ,\n",
       "          0.        ,   1.        ],\n",
       "       [  1.        , 101.        ,   1.        ,   0.        ,\n",
       "          0.        ,   0.        ],\n",
       "       [  1.        , 102.        ,   0.        ,   0.        ,\n",
       "          0.        ,   0.        ],\n",
       "       [  1.        , 100.        ,   0.        ,   0.        ,\n",
       "          1.        ,   0.        ],\n",
       "       [  1.        , 103.        ,   1.        ,   0.        ,\n",
       "          1.        ,   0.        ],\n",
       "       [  1.        , 100.79032258,   1.        ,   0.        ,\n",
       "          1.        ,   0.        ],\n",
       "       [  0.        , 101.        ,   0.        ,   0.        ,\n",
       "          0.        ,   1.        ],\n",
       "       [  1.        , 101.        ,   0.        ,   0.        ,\n",
       "          1.        ,   0.        ],\n",
       "       [  1.        ,  98.        ,   0.        ,   1.        ,\n",
       "          0.        ,   0.        ],\n",
       "       [  1.        ,  98.        ,   0.        ,   0.        ,\n",
       "          0.        ,   1.        ],\n",
       "       [  1.        ,  99.        ,   0.        ,   1.        ,\n",
       "          0.        ,   0.        ],\n",
       "       [  0.        , 101.        ,   0.        ,   0.        ,\n",
       "          1.        ,   0.        ],\n",
       "       [  0.        , 100.        ,   1.        ,   0.        ,\n",
       "          0.        ,   0.        ],\n",
       "       [  0.        , 104.        ,   1.        ,   0.        ,\n",
       "          0.        ,   0.        ],\n",
       "       [  0.        , 100.        ,   1.        ,   1.        ,\n",
       "          0.        ,   0.        ],\n",
       "       [  1.        , 102.        ,   0.        ,   0.        ,\n",
       "          0.        ,   0.        ],\n",
       "       [  0.        ,  99.        ,   0.        ,   0.        ,\n",
       "          0.        ,   1.        ],\n",
       "       [  0.        , 103.        ,   0.        ,   0.        ,\n",
       "          1.        ,   0.        ],\n",
       "       [  0.        , 101.        ,   0.        ,   0.        ,\n",
       "          1.        ,   0.        ],\n",
       "       [  1.        ,  98.        ,   0.        ,   0.        ,\n",
       "          1.        ,   0.        ],\n",
       "       [  0.        , 104.        ,   1.        ,   0.        ,\n",
       "          1.        ,   0.        ],\n",
       "       [  0.        , 100.79032258,   1.        ,   0.        ,\n",
       "          0.        ,   1.        ],\n",
       "       [  1.        , 104.        ,   0.        ,   1.        ,\n",
       "          0.        ,   0.        ],\n",
       "       [  1.        , 100.79032258,   0.        ,   0.        ,\n",
       "          0.        ,   1.        ],\n",
       "       [  1.        ,  99.        ,   0.        ,   0.        ,\n",
       "          0.        ,   0.        ],\n",
       "       [  0.        , 100.        ,   1.        ,   0.        ,\n",
       "          0.        ,   0.        ],\n",
       "       [  0.        ,  99.        ,   0.        ,   0.        ,\n",
       "          0.        ,   1.        ],\n",
       "       [  0.        ,  99.        ,   0.        ,   0.        ,\n",
       "          0.        ,   0.        ],\n",
       "       [  0.        , 102.        ,   1.        ,   0.        ,\n",
       "          1.        ,   0.        ],\n",
       "       [  0.        , 104.        ,   0.        ,   0.        ,\n",
       "          1.        ,   0.        ],\n",
       "       [  0.        ,  98.        ,   0.        ,   1.        ,\n",
       "          0.        ,   0.        ],\n",
       "       [  0.        , 102.        ,   0.        ,   1.        ,\n",
       "          0.        ,   0.        ],\n",
       "       [  0.        , 103.        ,   1.        ,   0.        ,\n",
       "          1.        ,   0.        ],\n",
       "       [  1.        , 103.        ,   1.        ,   0.        ,\n",
       "          0.        ,   0.        ],\n",
       "       [  1.        , 104.        ,   0.        ,   0.        ,\n",
       "          0.        ,   0.        ],\n",
       "       [  0.        , 103.        ,   0.        ,   0.        ,\n",
       "          0.        ,   0.        ],\n",
       "       [  1.        , 100.        ,   0.        ,   0.        ,\n",
       "          1.        ,   0.        ],\n",
       "       [  1.        , 101.        ,   0.        ,   1.        ,\n",
       "          0.        ,   0.        ],\n",
       "       [  0.        , 100.        ,   1.        ,   0.        ,\n",
       "          1.        ,   0.        ],\n",
       "       [  1.        ,  98.        ,   0.        ,   0.        ,\n",
       "          0.        ,   1.        ],\n",
       "       [  0.        , 103.        ,   1.        ,   0.        ,\n",
       "          1.        ,   0.        ],\n",
       "       [  0.        , 101.        ,   0.        ,   0.        ,\n",
       "          0.        ,   1.        ],\n",
       "       [  0.        ,  98.        ,   0.        ,   0.        ,\n",
       "          1.        ,   0.        ],\n",
       "       [  0.        , 100.        ,   0.        ,   0.        ,\n",
       "          1.        ,   0.        ],\n",
       "       [  0.        , 100.79032258,   0.        ,   0.        ,\n",
       "          0.        ,   0.        ],\n",
       "       [  0.        ,  99.        ,   1.        ,   1.        ,\n",
       "          0.        ,   0.        ],\n",
       "       [  1.        ,  98.        ,   1.        ,   0.        ,\n",
       "          0.        ,   0.        ],\n",
       "       [  0.        , 100.79032258,   0.        ,   1.        ,\n",
       "          0.        ,   0.        ],\n",
       "       [  1.        , 100.        ,   0.        ,   0.        ,\n",
       "          0.        ,   0.        ],\n",
       "       [  1.        ,  98.        ,   1.        ,   0.        ,\n",
       "          0.        ,   1.        ],\n",
       "       [  1.        ,  98.        ,   1.        ,   0.        ,\n",
       "          1.        ,   0.        ],\n",
       "       [  0.        , 104.        ,   0.        ,   0.        ,\n",
       "          0.        ,   0.        ],\n",
       "       [  1.        ,  98.        ,   0.        ,   0.        ,\n",
       "          1.        ,   0.        ],\n",
       "       [  0.        ,  98.        ,   1.        ,   1.        ,\n",
       "          0.        ,   0.        ],\n",
       "       [  0.        ,  99.        ,   1.        ,   0.        ,\n",
       "          0.        ,   0.        ],\n",
       "       [  0.        , 101.        ,   0.        ,   0.        ,\n",
       "          0.        ,   1.        ],\n",
       "       [  1.        , 100.        ,   0.        ,   0.        ,\n",
       "          0.        ,   0.        ],\n",
       "       [  1.        , 102.        ,   0.        ,   1.        ,\n",
       "          0.        ,   0.        ],\n",
       "       [  0.        ,  98.        ,   0.        ,   0.        ,\n",
       "          0.        ,   0.        ],\n",
       "       [  1.        , 100.79032258,   0.        ,   0.        ,\n",
       "          0.        ,   1.        ],\n",
       "       [  0.        , 100.79032258,   1.        ,   1.        ,\n",
       "          0.        ,   0.        ],\n",
       "       [  1.        , 100.79032258,   1.        ,   0.        ,\n",
       "          1.        ,   0.        ],\n",
       "       [  0.        , 103.        ,   0.        ,   1.        ,\n",
       "          0.        ,   0.        ],\n",
       "       [  1.        , 104.        ,   0.        ,   1.        ,\n",
       "          0.        ,   0.        ],\n",
       "       [  0.        , 104.        ,   0.        ,   0.        ,\n",
       "          0.        ,   0.        ]])"
      ]
     },
     "execution_count": 23,
     "metadata": {},
     "output_type": "execute_result"
    }
   ],
   "source": [
    "x_train_transformed = np.concatenate([x_train_cough,x_train_fever,x_train_gender_city],axis=1)\n",
    "x_test_transformed = np.concatenate([x_test_cough,x_test_fever,x_test_gender_city],axis=1)\n",
    "x_train_transformed"
   ]
  },
  {
   "cell_type": "markdown",
   "metadata": {},
   "source": [
    "### By ColumnTransformer"
   ]
  },
  {
   "cell_type": "code",
   "execution_count": 24,
   "metadata": {},
   "outputs": [],
   "source": [
    "from sklearn.compose import ColumnTransformer"
   ]
  },
  {
   "cell_type": "code",
   "execution_count": 31,
   "metadata": {},
   "outputs": [],
   "source": [
    "transformer = ColumnTransformer(transformers=[\n",
    "    ('tf1',SimpleImputer(),['fever']),\n",
    "    ('tf2',OrdinalEncoder(categories=[['Mild','Strong']]) , ['cough']),\n",
    "    ('tf3',OneHotEncoder(dtype='int',sparse_output=False,drop='first'),['gender','city'])\n",
    "],remainder='passthrough')"
   ]
  },
  {
   "cell_type": "code",
   "execution_count": 32,
   "metadata": {},
   "outputs": [],
   "source": [
    "x_train_transformed = transformer.fit_transform(x_train)\n",
    "x_test_transformed = transformer.transform(x_test)"
   ]
  },
  {
   "cell_type": "code",
   "execution_count": 33,
   "metadata": {},
   "outputs": [
    {
     "data": {
      "text/plain": [
       "array([[104.        ,   0.        ,   1.        ,   0.        ,\n",
       "          0.        ,   1.        ,  42.        ],\n",
       "       [104.        ,   0.        ,   1.        ,   0.        ,\n",
       "          0.        ,   1.        ,  44.        ],\n",
       "       [102.        ,   0.        ,   1.        ,   0.        ,\n",
       "          0.        ,   1.        ,  74.        ],\n",
       "       [ 98.        ,   0.        ,   1.        ,   0.        ,\n",
       "          1.        ,   0.        ,  24.        ],\n",
       "       [103.        ,   0.        ,   0.        ,   0.        ,\n",
       "          1.        ,   0.        ,  69.        ],\n",
       "       [ 98.        ,   1.        ,   0.        ,   0.        ,\n",
       "          0.        ,   1.        ,   5.        ],\n",
       "       [101.        ,   1.        ,   1.        ,   0.        ,\n",
       "          0.        ,   0.        ,  14.        ],\n",
       "       [102.        ,   1.        ,   0.        ,   0.        ,\n",
       "          0.        ,   0.        ,  24.        ],\n",
       "       [100.        ,   1.        ,   0.        ,   0.        ,\n",
       "          1.        ,   0.        ,  11.        ],\n",
       "       [103.        ,   1.        ,   1.        ,   0.        ,\n",
       "          1.        ,   0.        ,  70.        ],\n",
       "       [100.79032258,   1.        ,   1.        ,   0.        ,\n",
       "          1.        ,   0.        ,  79.        ],\n",
       "       [101.        ,   0.        ,   0.        ,   0.        ,\n",
       "          0.        ,   1.        ,  65.        ],\n",
       "       [101.        ,   1.        ,   0.        ,   0.        ,\n",
       "          1.        ,   0.        ,  51.        ],\n",
       "       [ 98.        ,   1.        ,   0.        ,   1.        ,\n",
       "          0.        ,   0.        ,  40.        ],\n",
       "       [ 98.        ,   1.        ,   0.        ,   0.        ,\n",
       "          0.        ,   1.        ,  69.        ],\n",
       "       [ 99.        ,   1.        ,   0.        ,   1.        ,\n",
       "          0.        ,   0.        ,  59.        ],\n",
       "       [101.        ,   0.        ,   0.        ,   0.        ,\n",
       "          1.        ,   0.        ,   8.        ],\n",
       "       [100.        ,   0.        ,   1.        ,   0.        ,\n",
       "          0.        ,   0.        ,  10.        ],\n",
       "       [104.        ,   0.        ,   1.        ,   0.        ,\n",
       "          0.        ,   0.        ,  25.        ],\n",
       "       [100.        ,   0.        ,   1.        ,   1.        ,\n",
       "          0.        ,   0.        ,  27.        ],\n",
       "       [102.        ,   1.        ,   0.        ,   0.        ,\n",
       "          0.        ,   0.        ,  82.        ],\n",
       "       [ 99.        ,   0.        ,   0.        ,   0.        ,\n",
       "          0.        ,   1.        ,  60.        ],\n",
       "       [103.        ,   0.        ,   0.        ,   0.        ,\n",
       "          1.        ,   0.        ,  50.        ],\n",
       "       [101.        ,   0.        ,   0.        ,   0.        ,\n",
       "          1.        ,   0.        ,  83.        ],\n",
       "       [ 98.        ,   1.        ,   0.        ,   0.        ,\n",
       "          1.        ,   0.        ,  10.        ],\n",
       "       [104.        ,   0.        ,   1.        ,   0.        ,\n",
       "          1.        ,   0.        ,  16.        ],\n",
       "       [100.79032258,   0.        ,   1.        ,   0.        ,\n",
       "          0.        ,   1.        ,  23.        ],\n",
       "       [104.        ,   1.        ,   0.        ,   1.        ,\n",
       "          0.        ,   0.        ,  75.        ],\n",
       "       [100.79032258,   1.        ,   0.        ,   0.        ,\n",
       "          0.        ,   1.        ,  34.        ],\n",
       "       [ 99.        ,   1.        ,   0.        ,   0.        ,\n",
       "          0.        ,   0.        ,  49.        ],\n",
       "       [100.        ,   0.        ,   1.        ,   0.        ,\n",
       "          0.        ,   0.        ,  11.        ],\n",
       "       [ 99.        ,   0.        ,   0.        ,   0.        ,\n",
       "          0.        ,   1.        ,  14.        ],\n",
       "       [ 99.        ,   0.        ,   0.        ,   0.        ,\n",
       "          0.        ,   0.        ,  22.        ],\n",
       "       [102.        ,   0.        ,   1.        ,   0.        ,\n",
       "          1.        ,   0.        ,   5.        ],\n",
       "       [104.        ,   0.        ,   0.        ,   0.        ,\n",
       "          1.        ,   0.        ,   6.        ],\n",
       "       [ 98.        ,   0.        ,   0.        ,   1.        ,\n",
       "          0.        ,   0.        ,  80.        ],\n",
       "       [102.        ,   0.        ,   0.        ,   1.        ,\n",
       "          0.        ,   0.        ,  49.        ],\n",
       "       [103.        ,   0.        ,   1.        ,   0.        ,\n",
       "          1.        ,   0.        ,  83.        ],\n",
       "       [103.        ,   1.        ,   1.        ,   0.        ,\n",
       "          0.        ,   0.        ,  46.        ],\n",
       "       [104.        ,   1.        ,   0.        ,   0.        ,\n",
       "          0.        ,   0.        ,  56.        ],\n",
       "       [103.        ,   0.        ,   0.        ,   0.        ,\n",
       "          0.        ,   0.        ,  16.        ],\n",
       "       [100.        ,   1.        ,   0.        ,   0.        ,\n",
       "          1.        ,   0.        ,  13.        ],\n",
       "       [101.        ,   1.        ,   0.        ,   1.        ,\n",
       "          0.        ,   0.        ,  68.        ],\n",
       "       [100.        ,   0.        ,   1.        ,   0.        ,\n",
       "          1.        ,   0.        ,  27.        ],\n",
       "       [ 98.        ,   1.        ,   0.        ,   0.        ,\n",
       "          0.        ,   1.        ,  81.        ],\n",
       "       [103.        ,   0.        ,   1.        ,   0.        ,\n",
       "          1.        ,   0.        ,  60.        ],\n",
       "       [101.        ,   0.        ,   0.        ,   0.        ,\n",
       "          0.        ,   1.        ,  81.        ],\n",
       "       [ 98.        ,   0.        ,   0.        ,   0.        ,\n",
       "          1.        ,   0.        ,  31.        ],\n",
       "       [100.        ,   0.        ,   0.        ,   0.        ,\n",
       "          1.        ,   0.        ,  19.        ],\n",
       "       [100.79032258,   0.        ,   0.        ,   0.        ,\n",
       "          0.        ,   0.        ,  84.        ],\n",
       "       [ 99.        ,   0.        ,   1.        ,   1.        ,\n",
       "          0.        ,   0.        ,  65.        ],\n",
       "       [ 98.        ,   1.        ,   1.        ,   0.        ,\n",
       "          0.        ,   0.        ,  12.        ],\n",
       "       [100.79032258,   0.        ,   0.        ,   1.        ,\n",
       "          0.        ,   0.        ,  75.        ],\n",
       "       [100.        ,   1.        ,   0.        ,   0.        ,\n",
       "          0.        ,   0.        ,  47.        ],\n",
       "       [ 98.        ,   1.        ,   1.        ,   0.        ,\n",
       "          0.        ,   1.        ,  23.        ],\n",
       "       [ 98.        ,   1.        ,   1.        ,   0.        ,\n",
       "          1.        ,   0.        ,  34.        ],\n",
       "       [104.        ,   0.        ,   0.        ,   0.        ,\n",
       "          0.        ,   0.        ,  18.        ],\n",
       "       [ 98.        ,   1.        ,   0.        ,   0.        ,\n",
       "          1.        ,   0.        ,  71.        ],\n",
       "       [ 98.        ,   0.        ,   1.        ,   1.        ,\n",
       "          0.        ,   0.        ,  83.        ],\n",
       "       [ 99.        ,   0.        ,   1.        ,   0.        ,\n",
       "          0.        ,   0.        ,  72.        ],\n",
       "       [101.        ,   0.        ,   0.        ,   0.        ,\n",
       "          0.        ,   1.        ,  19.        ],\n",
       "       [100.        ,   1.        ,   0.        ,   0.        ,\n",
       "          0.        ,   0.        ,  19.        ],\n",
       "       [102.        ,   1.        ,   0.        ,   1.        ,\n",
       "          0.        ,   0.        ,  33.        ],\n",
       "       [ 98.        ,   0.        ,   0.        ,   0.        ,\n",
       "          0.        ,   0.        ,  64.        ],\n",
       "       [100.79032258,   1.        ,   0.        ,   0.        ,\n",
       "          0.        ,   1.        ,  20.        ],\n",
       "       [100.79032258,   0.        ,   1.        ,   1.        ,\n",
       "          0.        ,   0.        ,  38.        ],\n",
       "       [100.79032258,   1.        ,   1.        ,   0.        ,\n",
       "          1.        ,   0.        ,  71.        ],\n",
       "       [103.        ,   0.        ,   0.        ,   1.        ,\n",
       "          0.        ,   0.        ,  73.        ],\n",
       "       [104.        ,   1.        ,   0.        ,   1.        ,\n",
       "          0.        ,   0.        ,  34.        ],\n",
       "       [104.        ,   0.        ,   0.        ,   0.        ,\n",
       "          0.        ,   0.        ,  12.        ]])"
      ]
     },
     "execution_count": 33,
     "metadata": {},
     "output_type": "execute_result"
    }
   ],
   "source": [
    "x_train_transformed"
   ]
  },
  {
   "cell_type": "code",
   "execution_count": null,
   "metadata": {},
   "outputs": [],
   "source": []
  }
 ],
 "metadata": {
  "kernelspec": {
   "display_name": "base",
   "language": "python",
   "name": "python3"
  },
  "language_info": {
   "codemirror_mode": {
    "name": "ipython",
    "version": 3
   },
   "file_extension": ".py",
   "mimetype": "text/x-python",
   "name": "python",
   "nbconvert_exporter": "python",
   "pygments_lexer": "ipython3",
   "version": "3.11.5"
  }
 },
 "nbformat": 4,
 "nbformat_minor": 2
}
