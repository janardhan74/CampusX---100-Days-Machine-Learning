{
 "cells": [
  {
   "cell_type": "code",
   "execution_count": 6,
   "metadata": {},
   "outputs": [],
   "source": [
    "import pandas as pd\n",
    "import matplotlib.pyplot as plt"
   ]
  },
  {
   "cell_type": "code",
   "execution_count": 2,
   "metadata": {},
   "outputs": [
    {
     "data": {
      "text/html": [
       "<div>\n",
       "<style scoped>\n",
       "    .dataframe tbody tr th:only-of-type {\n",
       "        vertical-align: middle;\n",
       "    }\n",
       "\n",
       "    .dataframe tbody tr th {\n",
       "        vertical-align: top;\n",
       "    }\n",
       "\n",
       "    .dataframe thead th {\n",
       "        text-align: right;\n",
       "    }\n",
       "</style>\n",
       "<table border=\"1\" class=\"dataframe\">\n",
       "  <thead>\n",
       "    <tr style=\"text-align: right;\">\n",
       "      <th></th>\n",
       "      <th>Age</th>\n",
       "      <th>Fare</th>\n",
       "      <th>Family</th>\n",
       "      <th>Survived</th>\n",
       "    </tr>\n",
       "  </thead>\n",
       "  <tbody>\n",
       "    <tr>\n",
       "      <th>0</th>\n",
       "      <td>22.0</td>\n",
       "      <td>7.2500</td>\n",
       "      <td>1</td>\n",
       "      <td>0</td>\n",
       "    </tr>\n",
       "    <tr>\n",
       "      <th>1</th>\n",
       "      <td>38.0</td>\n",
       "      <td>71.2833</td>\n",
       "      <td>1</td>\n",
       "      <td>1</td>\n",
       "    </tr>\n",
       "    <tr>\n",
       "      <th>2</th>\n",
       "      <td>26.0</td>\n",
       "      <td>7.9250</td>\n",
       "      <td>0</td>\n",
       "      <td>1</td>\n",
       "    </tr>\n",
       "    <tr>\n",
       "      <th>3</th>\n",
       "      <td>35.0</td>\n",
       "      <td>53.1000</td>\n",
       "      <td>1</td>\n",
       "      <td>1</td>\n",
       "    </tr>\n",
       "    <tr>\n",
       "      <th>4</th>\n",
       "      <td>35.0</td>\n",
       "      <td>8.0500</td>\n",
       "      <td>0</td>\n",
       "      <td>0</td>\n",
       "    </tr>\n",
       "    <tr>\n",
       "      <th>...</th>\n",
       "      <td>...</td>\n",
       "      <td>...</td>\n",
       "      <td>...</td>\n",
       "      <td>...</td>\n",
       "    </tr>\n",
       "    <tr>\n",
       "      <th>886</th>\n",
       "      <td>27.0</td>\n",
       "      <td>13.0000</td>\n",
       "      <td>0</td>\n",
       "      <td>0</td>\n",
       "    </tr>\n",
       "    <tr>\n",
       "      <th>887</th>\n",
       "      <td>19.0</td>\n",
       "      <td>30.0000</td>\n",
       "      <td>0</td>\n",
       "      <td>1</td>\n",
       "    </tr>\n",
       "    <tr>\n",
       "      <th>888</th>\n",
       "      <td>NaN</td>\n",
       "      <td>23.4500</td>\n",
       "      <td>3</td>\n",
       "      <td>0</td>\n",
       "    </tr>\n",
       "    <tr>\n",
       "      <th>889</th>\n",
       "      <td>26.0</td>\n",
       "      <td>NaN</td>\n",
       "      <td>0</td>\n",
       "      <td>1</td>\n",
       "    </tr>\n",
       "    <tr>\n",
       "      <th>890</th>\n",
       "      <td>32.0</td>\n",
       "      <td>7.7500</td>\n",
       "      <td>0</td>\n",
       "      <td>0</td>\n",
       "    </tr>\n",
       "  </tbody>\n",
       "</table>\n",
       "<p>891 rows × 4 columns</p>\n",
       "</div>"
      ],
      "text/plain": [
       "      Age     Fare  Family  Survived\n",
       "0    22.0   7.2500       1         0\n",
       "1    38.0  71.2833       1         1\n",
       "2    26.0   7.9250       0         1\n",
       "3    35.0  53.1000       1         1\n",
       "4    35.0   8.0500       0         0\n",
       "..    ...      ...     ...       ...\n",
       "886  27.0  13.0000       0         0\n",
       "887  19.0  30.0000       0         1\n",
       "888   NaN  23.4500       3         0\n",
       "889  26.0      NaN       0         1\n",
       "890  32.0   7.7500       0         0\n",
       "\n",
       "[891 rows x 4 columns]"
      ]
     },
     "execution_count": 2,
     "metadata": {},
     "output_type": "execute_result"
    }
   ],
   "source": [
    "df = pd.read_csv('titanic_toy.csv')\n",
    "df"
   ]
  },
  {
   "cell_type": "code",
   "execution_count": 3,
   "metadata": {},
   "outputs": [
    {
     "data": {
      "text/plain": [
       "((668, 3), (223, 3))"
      ]
     },
     "execution_count": 3,
     "metadata": {},
     "output_type": "execute_result"
    }
   ],
   "source": [
    "from sklearn.model_selection import train_test_split\n",
    "\n",
    "x = df.drop(['Survived'],axis=1)\n",
    "y = df[['Survived']]\n",
    "\n",
    "x_train,x_test,y_train,y_test = train_test_split(x,y)\n",
    "x_train.shape,x_test.shape"
   ]
  },
  {
   "cell_type": "code",
   "execution_count": 4,
   "metadata": {},
   "outputs": [],
   "source": [
    "x_train['age_99'] = x_train['Age'].fillna(99)\n",
    "x_train['age_minus1'] = x_train['Age'].fillna(-1)\n",
    "\n",
    "x_train['fare_999'] = x_train['Fare'].fillna(999)\n",
    "x_train['fare_minus1'] = x_train['Fare'].fillna(-1)"
   ]
  },
  {
   "cell_type": "code",
   "execution_count": 5,
   "metadata": {},
   "outputs": [
    {
     "data": {
      "text/html": [
       "<div>\n",
       "<style scoped>\n",
       "    .dataframe tbody tr th:only-of-type {\n",
       "        vertical-align: middle;\n",
       "    }\n",
       "\n",
       "    .dataframe tbody tr th {\n",
       "        vertical-align: top;\n",
       "    }\n",
       "\n",
       "    .dataframe thead th {\n",
       "        text-align: right;\n",
       "    }\n",
       "</style>\n",
       "<table border=\"1\" class=\"dataframe\">\n",
       "  <thead>\n",
       "    <tr style=\"text-align: right;\">\n",
       "      <th></th>\n",
       "      <th>Age</th>\n",
       "      <th>Fare</th>\n",
       "      <th>Family</th>\n",
       "      <th>age_99</th>\n",
       "      <th>age_minus1</th>\n",
       "      <th>fare_999</th>\n",
       "      <th>fare_minus1</th>\n",
       "    </tr>\n",
       "  </thead>\n",
       "  <tbody>\n",
       "    <tr>\n",
       "      <th>111</th>\n",
       "      <td>14.5</td>\n",
       "      <td>14.4542</td>\n",
       "      <td>1</td>\n",
       "      <td>14.5</td>\n",
       "      <td>14.5</td>\n",
       "      <td>14.4542</td>\n",
       "      <td>14.4542</td>\n",
       "    </tr>\n",
       "    <tr>\n",
       "      <th>222</th>\n",
       "      <td>51.0</td>\n",
       "      <td>8.0500</td>\n",
       "      <td>0</td>\n",
       "      <td>51.0</td>\n",
       "      <td>51.0</td>\n",
       "      <td>8.0500</td>\n",
       "      <td>8.0500</td>\n",
       "    </tr>\n",
       "    <tr>\n",
       "      <th>766</th>\n",
       "      <td>NaN</td>\n",
       "      <td>39.6000</td>\n",
       "      <td>0</td>\n",
       "      <td>99.0</td>\n",
       "      <td>-1.0</td>\n",
       "      <td>39.6000</td>\n",
       "      <td>39.6000</td>\n",
       "    </tr>\n",
       "    <tr>\n",
       "      <th>839</th>\n",
       "      <td>NaN</td>\n",
       "      <td>29.7000</td>\n",
       "      <td>0</td>\n",
       "      <td>99.0</td>\n",
       "      <td>-1.0</td>\n",
       "      <td>29.7000</td>\n",
       "      <td>29.7000</td>\n",
       "    </tr>\n",
       "    <tr>\n",
       "      <th>500</th>\n",
       "      <td>17.0</td>\n",
       "      <td>8.6625</td>\n",
       "      <td>0</td>\n",
       "      <td>17.0</td>\n",
       "      <td>17.0</td>\n",
       "      <td>8.6625</td>\n",
       "      <td>8.6625</td>\n",
       "    </tr>\n",
       "    <tr>\n",
       "      <th>...</th>\n",
       "      <td>...</td>\n",
       "      <td>...</td>\n",
       "      <td>...</td>\n",
       "      <td>...</td>\n",
       "      <td>...</td>\n",
       "      <td>...</td>\n",
       "      <td>...</td>\n",
       "    </tr>\n",
       "    <tr>\n",
       "      <th>635</th>\n",
       "      <td>28.0</td>\n",
       "      <td>13.0000</td>\n",
       "      <td>0</td>\n",
       "      <td>28.0</td>\n",
       "      <td>28.0</td>\n",
       "      <td>13.0000</td>\n",
       "      <td>13.0000</td>\n",
       "    </tr>\n",
       "    <tr>\n",
       "      <th>648</th>\n",
       "      <td>NaN</td>\n",
       "      <td>7.5500</td>\n",
       "      <td>0</td>\n",
       "      <td>99.0</td>\n",
       "      <td>-1.0</td>\n",
       "      <td>7.5500</td>\n",
       "      <td>7.5500</td>\n",
       "    </tr>\n",
       "    <tr>\n",
       "      <th>885</th>\n",
       "      <td>39.0</td>\n",
       "      <td>29.1250</td>\n",
       "      <td>5</td>\n",
       "      <td>39.0</td>\n",
       "      <td>39.0</td>\n",
       "      <td>29.1250</td>\n",
       "      <td>29.1250</td>\n",
       "    </tr>\n",
       "    <tr>\n",
       "      <th>703</th>\n",
       "      <td>25.0</td>\n",
       "      <td>7.7417</td>\n",
       "      <td>0</td>\n",
       "      <td>25.0</td>\n",
       "      <td>25.0</td>\n",
       "      <td>7.7417</td>\n",
       "      <td>7.7417</td>\n",
       "    </tr>\n",
       "    <tr>\n",
       "      <th>456</th>\n",
       "      <td>65.0</td>\n",
       "      <td>26.5500</td>\n",
       "      <td>0</td>\n",
       "      <td>65.0</td>\n",
       "      <td>65.0</td>\n",
       "      <td>26.5500</td>\n",
       "      <td>26.5500</td>\n",
       "    </tr>\n",
       "  </tbody>\n",
       "</table>\n",
       "<p>668 rows × 7 columns</p>\n",
       "</div>"
      ],
      "text/plain": [
       "      Age     Fare  Family  age_99  age_minus1  fare_999  fare_minus1\n",
       "111  14.5  14.4542       1    14.5        14.5   14.4542      14.4542\n",
       "222  51.0   8.0500       0    51.0        51.0    8.0500       8.0500\n",
       "766   NaN  39.6000       0    99.0        -1.0   39.6000      39.6000\n",
       "839   NaN  29.7000       0    99.0        -1.0   29.7000      29.7000\n",
       "500  17.0   8.6625       0    17.0        17.0    8.6625       8.6625\n",
       "..    ...      ...     ...     ...         ...       ...          ...\n",
       "635  28.0  13.0000       0    28.0        28.0   13.0000      13.0000\n",
       "648   NaN   7.5500       0    99.0        -1.0    7.5500       7.5500\n",
       "885  39.0  29.1250       5    39.0        39.0   29.1250      29.1250\n",
       "703  25.0   7.7417       0    25.0        25.0    7.7417       7.7417\n",
       "456  65.0  26.5500       0    65.0        65.0   26.5500      26.5500\n",
       "\n",
       "[668 rows x 7 columns]"
      ]
     },
     "execution_count": 5,
     "metadata": {},
     "output_type": "execute_result"
    }
   ],
   "source": [
    "x_train"
   ]
  },
  {
   "cell_type": "code",
   "execution_count": 8,
   "metadata": {},
   "outputs": [
    {
     "name": "stdout",
     "output_type": "stream",
     "text": [
      "Age var :  204.64002976597467\n",
      "age_99 var :  922.5095264334891\n",
      "age_minus1 var :  313.3358288511428\n",
      "Fare var :  2231.4267168684273\n",
      "fare_999 var :  46185.46160073379\n",
      "fare_minus1 var :  2169.346890573757\n"
     ]
    }
   ],
   "source": [
    "print(\"Age var : \",x_train['Age'].var())\n",
    "print('age_99 var : ',x_train['age_99'].var())\n",
    "print('age_minus1 var : ',x_train['age_minus1'].var())\n",
    "\n",
    "print('Fare var : ',x_train['Fare'].var())\n",
    "print(\"fare_999 var : \",x_train['fare_999'].var())\n",
    "print('fare_minus1 var : ',x_train['fare_minus1'].var())"
   ]
  },
  {
   "cell_type": "code",
   "execution_count": 11,
   "metadata": {},
   "outputs": [
    {
     "data": {
      "text/plain": [
       "<matplotlib.legend.Legend at 0x75bbf8555550>"
      ]
     },
     "execution_count": 11,
     "metadata": {},
     "output_type": "execute_result"
    },
    {
     "data": {
      "image/png": "[encoded data removed]",
      "text/plain": [
       "<Figure size 640x480 with 1 Axes>"
      ]
     },
     "metadata": {},
     "output_type": "display_data"
    }
   ],
   "source": [
    "fig = plt.figure()\n",
    "ax = fig.add_subplot()\n",
    "\n",
    "# Age\n",
    "x_train['Age'].plot(kind='kde')\n",
    "\n",
    "# age_99\n",
    "x_train['age_99'].plot(kind='kde',color='green')\n",
    "\n",
    "# age_minus1\n",
    "x_train['age_minus1'].plot(kind='kde',color='red')\n",
    "\n",
    "plt.legend()"
   ]
  },
  {
   "cell_type": "code",
   "execution_count": 12,
   "metadata": {},
   "outputs": [
    {
     "data": {
      "text/plain": [
       "<matplotlib.legend.Legend at 0x75bbcc736b50>"
      ]
     },
     "execution_count": 12,
     "metadata": {},
     "output_type": "execute_result"
    },
    {
     "data": {
      "image/png": "[encoded data removed]",
      "text/plain": [
       "<Figure size 640x480 with 1 Axes>"
      ]
     },
     "metadata": {},
     "output_type": "display_data"
    }
   ],
   "source": [
    "fig = plt.figure()\n",
    "ax = fig.add_subplot()\n",
    "\n",
    "# Fare\n",
    "x_train['Fare'].plot(kind='kde')\n",
    "\n",
    "# fare_999\n",
    "x_train['fare_999'].plot(kind='kde',color='red')\n",
    "\n",
    "# fare_minus1\n",
    "x_train['fare_minus1'].plot(kind='kde',color='green')\n",
    "\n",
    "plt.legend()\n"
   ]
  },
  {
   "cell_type": "code",
   "execution_count": 13,
   "metadata": {},
   "outputs": [
    {
     "data": {
      "text/plain": [
       "<Axes: >"
      ]
     },
     "execution_count": 13,
     "metadata": {},
     "output_type": "execute_result"
    },
    {
     "data": {
      "image/png": "[encoded data removed]",
      "text/plain": [
       "<Figure size 640x480 with 1 Axes>"
      ]
     },
     "metadata": {},
     "output_type": "display_data"
    }
   ],
   "source": [
    "x_train[['Age','age_99','age_minus1']].boxplot()"
   ]
  },
  {
   "cell_type": "code",
   "execution_count": 14,
   "metadata": {},
   "outputs": [
    {
     "data": {
      "text/plain": [
       "<Axes: >"
      ]
     },
     "execution_count": 14,
     "metadata": {},
     "output_type": "execute_result"
    },
    {
     "data": {
      "image/png": "[encoded data removed]",
      "text/plain": [
       "<Figure size 640x480 with 1 Axes>"
      ]
     },
     "metadata": {},
     "output_type": "display_data"
    }
   ],
   "source": [
    "x_train[['Fare','fare_999','fare_minus1']].boxplot()"
   ]
  },
  {
   "cell_type": "code",
   "execution_count": 15,
   "metadata": {},
   "outputs": [
    {
     "data": {
      "text/html": [
       "<div>\n",
       "<style scoped>\n",
       "    .dataframe tbody tr th:only-of-type {\n",
       "        vertical-align: middle;\n",
       "    }\n",
       "\n",
       "    .dataframe tbody tr th {\n",
       "        vertical-align: top;\n",
       "    }\n",
       "\n",
       "    .dataframe thead th {\n",
       "        text-align: right;\n",
       "    }\n",
       "</style>\n",
       "<table border=\"1\" class=\"dataframe\">\n",
       "  <thead>\n",
       "    <tr style=\"text-align: right;\">\n",
       "      <th></th>\n",
       "      <th>Age</th>\n",
       "      <th>Fare</th>\n",
       "      <th>Family</th>\n",
       "      <th>age_99</th>\n",
       "      <th>age_minus1</th>\n",
       "      <th>fare_999</th>\n",
       "      <th>fare_minus1</th>\n",
       "    </tr>\n",
       "  </thead>\n",
       "  <tbody>\n",
       "    <tr>\n",
       "      <th>Age</th>\n",
       "      <td>204.640030</td>\n",
       "      <td>73.932047</td>\n",
       "      <td>-6.163002</td>\n",
       "      <td>204.640030</td>\n",
       "      <td>204.640030</td>\n",
       "      <td>109.149514</td>\n",
       "      <td>68.808586</td>\n",
       "    </tr>\n",
       "    <tr>\n",
       "      <th>Fare</th>\n",
       "      <td>73.932047</td>\n",
       "      <td>2231.426717</td>\n",
       "      <td>14.881083</td>\n",
       "      <td>-87.485512</td>\n",
       "      <td>124.302490</td>\n",
       "      <td>2231.426717</td>\n",
       "      <td>2231.426717</td>\n",
       "    </tr>\n",
       "    <tr>\n",
       "      <th>Family</th>\n",
       "      <td>-6.163002</td>\n",
       "      <td>14.881083</td>\n",
       "      <td>2.492113</td>\n",
       "      <td>-7.745043</td>\n",
       "      <td>-3.715022</td>\n",
       "      <td>16.404182</td>\n",
       "      <td>14.070020</td>\n",
       "    </tr>\n",
       "    <tr>\n",
       "      <th>age_99</th>\n",
       "      <td>204.640030</td>\n",
       "      <td>-87.485512</td>\n",
       "      <td>-7.745043</td>\n",
       "      <td>922.509526</td>\n",
       "      <td>-171.506709</td>\n",
       "      <td>-99.196013</td>\n",
       "      <td>-82.626020</td>\n",
       "    </tr>\n",
       "    <tr>\n",
       "      <th>age_minus1</th>\n",
       "      <td>204.640030</td>\n",
       "      <td>124.302490</td>\n",
       "      <td>-3.715022</td>\n",
       "      <td>-171.506709</td>\n",
       "      <td>313.335829</td>\n",
       "      <td>170.545792</td>\n",
       "      <td>116.417602</td>\n",
       "    </tr>\n",
       "    <tr>\n",
       "      <th>fare_999</th>\n",
       "      <td>109.149514</td>\n",
       "      <td>2231.426717</td>\n",
       "      <td>16.404182</td>\n",
       "      <td>-99.196013</td>\n",
       "      <td>170.545792</td>\n",
       "      <td>46185.461601</td>\n",
       "      <td>661.841668</td>\n",
       "    </tr>\n",
       "    <tr>\n",
       "      <th>fare_minus1</th>\n",
       "      <td>68.808586</td>\n",
       "      <td>2231.426717</td>\n",
       "      <td>14.070020</td>\n",
       "      <td>-82.626020</td>\n",
       "      <td>116.417602</td>\n",
       "      <td>661.841668</td>\n",
       "      <td>2169.346891</td>\n",
       "    </tr>\n",
       "  </tbody>\n",
       "</table>\n",
       "</div>"
      ],
      "text/plain": [
       "                    Age         Fare     Family      age_99  age_minus1  \\\n",
       "Age          204.640030    73.932047  -6.163002  204.640030  204.640030   \n",
       "Fare          73.932047  2231.426717  14.881083  -87.485512  124.302490   \n",
       "Family        -6.163002    14.881083   2.492113   -7.745043   -3.715022   \n",
       "age_99       204.640030   -87.485512  -7.745043  922.509526 -171.506709   \n",
       "age_minus1   204.640030   124.302490  -3.715022 -171.506709  313.335829   \n",
       "fare_999     109.149514  2231.426717  16.404182  -99.196013  170.545792   \n",
       "fare_minus1   68.808586  2231.426717  14.070020  -82.626020  116.417602   \n",
       "\n",
       "                 fare_999  fare_minus1  \n",
       "Age            109.149514    68.808586  \n",
       "Fare          2231.426717  2231.426717  \n",
       "Family          16.404182    14.070020  \n",
       "age_99         -99.196013   -82.626020  \n",
       "age_minus1     170.545792   116.417602  \n",
       "fare_999     46185.461601   661.841668  \n",
       "fare_minus1    661.841668  2169.346891  "
      ]
     },
     "execution_count": 15,
     "metadata": {},
     "output_type": "execute_result"
    }
   ],
   "source": [
    "x_train.cov()"
   ]
  },
  {
   "cell_type": "code",
   "execution_count": 16,
   "metadata": {},
   "outputs": [
    {
     "data": {
      "text/html": [
       "<div>\n",
       "<style scoped>\n",
       "    .dataframe tbody tr th:only-of-type {\n",
       "        vertical-align: middle;\n",
       "    }\n",
       "\n",
       "    .dataframe tbody tr th {\n",
       "        vertical-align: top;\n",
       "    }\n",
       "\n",
       "    .dataframe thead th {\n",
       "        text-align: right;\n",
       "    }\n",
       "</style>\n",
       "<table border=\"1\" class=\"dataframe\">\n",
       "  <thead>\n",
       "    <tr style=\"text-align: right;\">\n",
       "      <th></th>\n",
       "      <th>Age</th>\n",
       "      <th>Fare</th>\n",
       "      <th>Family</th>\n",
       "      <th>age_99</th>\n",
       "      <th>age_minus1</th>\n",
       "      <th>fare_999</th>\n",
       "      <th>fare_minus1</th>\n",
       "    </tr>\n",
       "  </thead>\n",
       "  <tbody>\n",
       "    <tr>\n",
       "      <th>Age</th>\n",
       "      <td>1.000000</td>\n",
       "      <td>0.100835</td>\n",
       "      <td>-0.287786</td>\n",
       "      <td>1.000000</td>\n",
       "      <td>1.000000</td>\n",
       "      <td>0.035177</td>\n",
       "      <td>0.095714</td>\n",
       "    </tr>\n",
       "    <tr>\n",
       "      <th>Fare</th>\n",
       "      <td>0.100835</td>\n",
       "      <td>1.000000</td>\n",
       "      <td>0.197791</td>\n",
       "      <td>-0.060819</td>\n",
       "      <td>0.148268</td>\n",
       "      <td>1.000000</td>\n",
       "      <td>1.000000</td>\n",
       "    </tr>\n",
       "    <tr>\n",
       "      <th>Family</th>\n",
       "      <td>-0.287786</td>\n",
       "      <td>0.197791</td>\n",
       "      <td>1.000000</td>\n",
       "      <td>-0.161530</td>\n",
       "      <td>-0.132945</td>\n",
       "      <td>0.048352</td>\n",
       "      <td>0.191358</td>\n",
       "    </tr>\n",
       "    <tr>\n",
       "      <th>age_99</th>\n",
       "      <td>1.000000</td>\n",
       "      <td>-0.060819</td>\n",
       "      <td>-0.161530</td>\n",
       "      <td>1.000000</td>\n",
       "      <td>-0.319000</td>\n",
       "      <td>-0.015197</td>\n",
       "      <td>-0.058407</td>\n",
       "    </tr>\n",
       "    <tr>\n",
       "      <th>age_minus1</th>\n",
       "      <td>1.000000</td>\n",
       "      <td>0.148268</td>\n",
       "      <td>-0.132945</td>\n",
       "      <td>-0.319000</td>\n",
       "      <td>1.000000</td>\n",
       "      <td>0.044832</td>\n",
       "      <td>0.141205</td>\n",
       "    </tr>\n",
       "    <tr>\n",
       "      <th>fare_999</th>\n",
       "      <td>0.035177</td>\n",
       "      <td>1.000000</td>\n",
       "      <td>0.048352</td>\n",
       "      <td>-0.015197</td>\n",
       "      <td>0.044832</td>\n",
       "      <td>1.000000</td>\n",
       "      <td>0.066121</td>\n",
       "    </tr>\n",
       "    <tr>\n",
       "      <th>fare_minus1</th>\n",
       "      <td>0.095714</td>\n",
       "      <td>1.000000</td>\n",
       "      <td>0.191358</td>\n",
       "      <td>-0.058407</td>\n",
       "      <td>0.141205</td>\n",
       "      <td>0.066121</td>\n",
       "      <td>1.000000</td>\n",
       "    </tr>\n",
       "  </tbody>\n",
       "</table>\n",
       "</div>"
      ],
      "text/plain": [
       "                  Age      Fare    Family    age_99  age_minus1  fare_999  \\\n",
       "Age          1.000000  0.100835 -0.287786  1.000000    1.000000  0.035177   \n",
       "Fare         0.100835  1.000000  0.197791 -0.060819    0.148268  1.000000   \n",
       "Family      -0.287786  0.197791  1.000000 -0.161530   -0.132945  0.048352   \n",
       "age_99       1.000000 -0.060819 -0.161530  1.000000   -0.319000 -0.015197   \n",
       "age_minus1   1.000000  0.148268 -0.132945 -0.319000    1.000000  0.044832   \n",
       "fare_999     0.035177  1.000000  0.048352 -0.015197    0.044832  1.000000   \n",
       "fare_minus1  0.095714  1.000000  0.191358 -0.058407    0.141205  0.066121   \n",
       "\n",
       "             fare_minus1  \n",
       "Age             0.095714  \n",
       "Fare            1.000000  \n",
       "Family          0.191358  \n",
       "age_99         -0.058407  \n",
       "age_minus1      0.141205  \n",
       "fare_999        0.066121  \n",
       "fare_minus1     1.000000  "
      ]
     },
     "execution_count": 16,
     "metadata": {},
     "output_type": "execute_result"
    }
   ],
   "source": [
    "x_train.corr()"
   ]
  },
  {
   "cell_type": "markdown",
   "metadata": {},
   "source": [
    "### by sklearn"
   ]
  },
  {
   "cell_type": "code",
   "execution_count": 17,
   "metadata": {},
   "outputs": [
    {
     "data": {
      "text/plain": [
       "((668, 3), (223, 3))"
      ]
     },
     "execution_count": 17,
     "metadata": {},
     "output_type": "execute_result"
    }
   ],
   "source": [
    "x_train,x_test,y_train,y_test = train_test_split(x,y)\n",
    "x_train.shape,x_test.shape"
   ]
  },
  {
   "cell_type": "code",
   "execution_count": 18,
   "metadata": {},
   "outputs": [],
   "source": [
    "from sklearn.impute import SimpleImputer\n",
    "from sklearn.compose import ColumnTransformer\n",
    "impute_age = SimpleImputer(strategy='constant',fill_value=99)\n",
    "impute_fare = SimpleImputer(strategy='constant',fill_value=-1)\n",
    "\n",
    "trf = ColumnTransformer([\n",
    "    ('trf1',impute_age,['Age']),\n",
    "    ('trf2',impute_fare,['Fare'])\n",
    "])\n",
    "\n",
    "x_train_imputed = trf.fit_transform(x_train)\n",
    "x_test_imputed = trf.transform(x_test)"
   ]
  },
  {
   "cell_type": "code",
   "execution_count": 19,
   "metadata": {},
   "outputs": [
    {
     "data": {
      "text/plain": [
       "array([[99.    , 15.5   ],\n",
       "       [36.    , 17.4   ],\n",
       "       [23.    ,  7.8958],\n",
       "       ...,\n",
       "       [44.    , 26.    ],\n",
       "       [32.    , 13.    ],\n",
       "       [33.    ,  7.8958]])"
      ]
     },
     "execution_count": 19,
     "metadata": {},
     "output_type": "execute_result"
    }
   ],
   "source": [
    "x_train_imputed"
   ]
  },
  {
   "cell_type": "code",
   "execution_count": null,
   "metadata": {},
   "outputs": [],
   "source": []
  }
 ],
 "metadata": {
  "kernelspec": {
   "display_name": "base",
   "language": "python",
   "name": "python3"
  },
  "language_info": {
   "codemirror_mode": {
    "name": "ipython",
    "version": 3
   },
   "file_extension": ".py",
   "mimetype": "text/x-python",
   "name": "python",
   "nbconvert_exporter": "python",
   "pygments_lexer": "ipython3",
   "version": "3.11.5"
  }
 },
 "nbformat": 4,
 "nbformat_minor": 2
}
