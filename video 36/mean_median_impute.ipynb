{
 "cells": [
  {
   "cell_type": "code",
   "execution_count": 44,
   "metadata": {},
   "outputs": [],
   "source": [
    "import pandas as pd\n",
    "import matplotlib.pyplot as plt"
   ]
  },
  {
   "cell_type": "code",
   "execution_count": 45,
   "metadata": {},
   "outputs": [
    {
     "data": {
      "text/html": [
       "<div>\n",
       "<style scoped>\n",
       "    .dataframe tbody tr th:only-of-type {\n",
       "        vertical-align: middle;\n",
       "    }\n",
       "\n",
       "    .dataframe tbody tr th {\n",
       "        vertical-align: top;\n",
       "    }\n",
       "\n",
       "    .dataframe thead th {\n",
       "        text-align: right;\n",
       "    }\n",
       "</style>\n",
       "<table border=\"1\" class=\"dataframe\">\n",
       "  <thead>\n",
       "    <tr style=\"text-align: right;\">\n",
       "      <th></th>\n",
       "      <th>Age</th>\n",
       "      <th>Fare</th>\n",
       "      <th>Family</th>\n",
       "      <th>Survived</th>\n",
       "    </tr>\n",
       "  </thead>\n",
       "  <tbody>\n",
       "    <tr>\n",
       "      <th>0</th>\n",
       "      <td>22.0</td>\n",
       "      <td>7.2500</td>\n",
       "      <td>1</td>\n",
       "      <td>0</td>\n",
       "    </tr>\n",
       "    <tr>\n",
       "      <th>1</th>\n",
       "      <td>38.0</td>\n",
       "      <td>71.2833</td>\n",
       "      <td>1</td>\n",
       "      <td>1</td>\n",
       "    </tr>\n",
       "    <tr>\n",
       "      <th>2</th>\n",
       "      <td>26.0</td>\n",
       "      <td>7.9250</td>\n",
       "      <td>0</td>\n",
       "      <td>1</td>\n",
       "    </tr>\n",
       "    <tr>\n",
       "      <th>3</th>\n",
       "      <td>35.0</td>\n",
       "      <td>53.1000</td>\n",
       "      <td>1</td>\n",
       "      <td>1</td>\n",
       "    </tr>\n",
       "    <tr>\n",
       "      <th>4</th>\n",
       "      <td>35.0</td>\n",
       "      <td>8.0500</td>\n",
       "      <td>0</td>\n",
       "      <td>0</td>\n",
       "    </tr>\n",
       "  </tbody>\n",
       "</table>\n",
       "</div>"
      ],
      "text/plain": [
       "    Age     Fare  Family  Survived\n",
       "0  22.0   7.2500       1         0\n",
       "1  38.0  71.2833       1         1\n",
       "2  26.0   7.9250       0         1\n",
       "3  35.0  53.1000       1         1\n",
       "4  35.0   8.0500       0         0"
      ]
     },
     "execution_count": 45,
     "metadata": {},
     "output_type": "execute_result"
    }
   ],
   "source": [
    "df = pd.read_csv('titanic_toy.csv')\n",
    "df.head()"
   ]
  },
  {
   "cell_type": "code",
   "execution_count": 46,
   "metadata": {},
   "outputs": [
    {
     "name": "stdout",
     "output_type": "stream",
     "text": [
      "<class 'pandas.core.frame.DataFrame'>\n",
      "RangeIndex: 891 entries, 0 to 890\n",
      "Data columns (total 4 columns):\n",
      " #   Column    Non-Null Count  Dtype  \n",
      "---  ------    --------------  -----  \n",
      " 0   Age       714 non-null    float64\n",
      " 1   Fare      846 non-null    float64\n",
      " 2   Family    891 non-null    int64  \n",
      " 3   Survived  891 non-null    int64  \n",
      "dtypes: float64(2), int64(2)\n",
      "memory usage: 28.0 KB\n"
     ]
    }
   ],
   "source": [
    "df.info()"
   ]
  },
  {
   "cell_type": "code",
   "execution_count": 47,
   "metadata": {},
   "outputs": [
    {
     "data": {
      "text/plain": [
       "Age         19.865320\n",
       "Fare         5.050505\n",
       "Family       0.000000\n",
       "Survived     0.000000\n",
       "dtype: float64"
      ]
     },
     "execution_count": 47,
     "metadata": {},
     "output_type": "execute_result"
    }
   ],
   "source": [
    "df.isnull().mean()*100\n",
    "# * Note : Age contains 19 % missing values\n",
    "# * Note : Fare contains 5% missing values"
   ]
  },
  {
   "cell_type": "code",
   "execution_count": 48,
   "metadata": {},
   "outputs": [
    {
     "data": {
      "text/plain": [
       "((668, 3), (223, 3))"
      ]
     },
     "execution_count": 48,
     "metadata": {},
     "output_type": "execute_result"
    }
   ],
   "source": [
    "from sklearn.model_selection import train_test_split\n",
    "\n",
    "x = df.drop(['Survived'],axis=1)\n",
    "y = df[['Survived']]\n",
    "\n",
    "x_train,x_test,y_train,y_test = train_test_split(x,y)\n",
    "x_train.shape,x_test.shape"
   ]
  },
  {
   "cell_type": "code",
   "execution_count": 49,
   "metadata": {},
   "outputs": [],
   "source": [
    "age_median = df['Age'].median()\n",
    "age_mean = df['Age'].mean()\n",
    "\n",
    "fare_median = df['Fare'].median()\n",
    "fare_mean = df['Fare'].mean()"
   ]
  },
  {
   "cell_type": "code",
   "execution_count": 50,
   "metadata": {},
   "outputs": [
    {
     "data": {
      "text/html": [
       "<div>\n",
       "<style scoped>\n",
       "    .dataframe tbody tr th:only-of-type {\n",
       "        vertical-align: middle;\n",
       "    }\n",
       "\n",
       "    .dataframe tbody tr th {\n",
       "        vertical-align: top;\n",
       "    }\n",
       "\n",
       "    .dataframe thead th {\n",
       "        text-align: right;\n",
       "    }\n",
       "</style>\n",
       "<table border=\"1\" class=\"dataframe\">\n",
       "  <thead>\n",
       "    <tr style=\"text-align: right;\">\n",
       "      <th></th>\n",
       "      <th>Age</th>\n",
       "      <th>Fare</th>\n",
       "      <th>Family</th>\n",
       "      <th>Survived</th>\n",
       "      <th>age_mean</th>\n",
       "      <th>age_median</th>\n",
       "      <th>fare_mean</th>\n",
       "      <th>fare_median</th>\n",
       "    </tr>\n",
       "  </thead>\n",
       "  <tbody>\n",
       "    <tr>\n",
       "      <th>0</th>\n",
       "      <td>22.0</td>\n",
       "      <td>7.2500</td>\n",
       "      <td>1</td>\n",
       "      <td>0</td>\n",
       "      <td>22.000000</td>\n",
       "      <td>22.0</td>\n",
       "      <td>7.250000</td>\n",
       "      <td>7.2500</td>\n",
       "    </tr>\n",
       "    <tr>\n",
       "      <th>1</th>\n",
       "      <td>38.0</td>\n",
       "      <td>71.2833</td>\n",
       "      <td>1</td>\n",
       "      <td>1</td>\n",
       "      <td>38.000000</td>\n",
       "      <td>38.0</td>\n",
       "      <td>71.283300</td>\n",
       "      <td>71.2833</td>\n",
       "    </tr>\n",
       "    <tr>\n",
       "      <th>2</th>\n",
       "      <td>26.0</td>\n",
       "      <td>7.9250</td>\n",
       "      <td>0</td>\n",
       "      <td>1</td>\n",
       "      <td>26.000000</td>\n",
       "      <td>26.0</td>\n",
       "      <td>7.925000</td>\n",
       "      <td>7.9250</td>\n",
       "    </tr>\n",
       "    <tr>\n",
       "      <th>3</th>\n",
       "      <td>35.0</td>\n",
       "      <td>53.1000</td>\n",
       "      <td>1</td>\n",
       "      <td>1</td>\n",
       "      <td>35.000000</td>\n",
       "      <td>35.0</td>\n",
       "      <td>53.100000</td>\n",
       "      <td>53.1000</td>\n",
       "    </tr>\n",
       "    <tr>\n",
       "      <th>4</th>\n",
       "      <td>35.0</td>\n",
       "      <td>8.0500</td>\n",
       "      <td>0</td>\n",
       "      <td>0</td>\n",
       "      <td>35.000000</td>\n",
       "      <td>35.0</td>\n",
       "      <td>8.050000</td>\n",
       "      <td>8.0500</td>\n",
       "    </tr>\n",
       "    <tr>\n",
       "      <th>...</th>\n",
       "      <td>...</td>\n",
       "      <td>...</td>\n",
       "      <td>...</td>\n",
       "      <td>...</td>\n",
       "      <td>...</td>\n",
       "      <td>...</td>\n",
       "      <td>...</td>\n",
       "      <td>...</td>\n",
       "    </tr>\n",
       "    <tr>\n",
       "      <th>886</th>\n",
       "      <td>27.0</td>\n",
       "      <td>13.0000</td>\n",
       "      <td>0</td>\n",
       "      <td>0</td>\n",
       "      <td>27.000000</td>\n",
       "      <td>27.0</td>\n",
       "      <td>13.000000</td>\n",
       "      <td>13.0000</td>\n",
       "    </tr>\n",
       "    <tr>\n",
       "      <th>887</th>\n",
       "      <td>19.0</td>\n",
       "      <td>30.0000</td>\n",
       "      <td>0</td>\n",
       "      <td>1</td>\n",
       "      <td>19.000000</td>\n",
       "      <td>19.0</td>\n",
       "      <td>30.000000</td>\n",
       "      <td>30.0000</td>\n",
       "    </tr>\n",
       "    <tr>\n",
       "      <th>888</th>\n",
       "      <td>NaN</td>\n",
       "      <td>23.4500</td>\n",
       "      <td>3</td>\n",
       "      <td>0</td>\n",
       "      <td>29.699118</td>\n",
       "      <td>28.0</td>\n",
       "      <td>23.450000</td>\n",
       "      <td>23.4500</td>\n",
       "    </tr>\n",
       "    <tr>\n",
       "      <th>889</th>\n",
       "      <td>26.0</td>\n",
       "      <td>NaN</td>\n",
       "      <td>0</td>\n",
       "      <td>1</td>\n",
       "      <td>26.000000</td>\n",
       "      <td>26.0</td>\n",
       "      <td>32.279338</td>\n",
       "      <td>14.4542</td>\n",
       "    </tr>\n",
       "    <tr>\n",
       "      <th>890</th>\n",
       "      <td>32.0</td>\n",
       "      <td>7.7500</td>\n",
       "      <td>0</td>\n",
       "      <td>0</td>\n",
       "      <td>32.000000</td>\n",
       "      <td>32.0</td>\n",
       "      <td>7.750000</td>\n",
       "      <td>7.7500</td>\n",
       "    </tr>\n",
       "  </tbody>\n",
       "</table>\n",
       "<p>891 rows × 8 columns</p>\n",
       "</div>"
      ],
      "text/plain": [
       "      Age     Fare  Family  Survived   age_mean  age_median  fare_mean  \\\n",
       "0    22.0   7.2500       1         0  22.000000        22.0   7.250000   \n",
       "1    38.0  71.2833       1         1  38.000000        38.0  71.283300   \n",
       "2    26.0   7.9250       0         1  26.000000        26.0   7.925000   \n",
       "3    35.0  53.1000       1         1  35.000000        35.0  53.100000   \n",
       "4    35.0   8.0500       0         0  35.000000        35.0   8.050000   \n",
       "..    ...      ...     ...       ...        ...         ...        ...   \n",
       "886  27.0  13.0000       0         0  27.000000        27.0  13.000000   \n",
       "887  19.0  30.0000       0         1  19.000000        19.0  30.000000   \n",
       "888   NaN  23.4500       3         0  29.699118        28.0  23.450000   \n",
       "889  26.0      NaN       0         1  26.000000        26.0  32.279338   \n",
       "890  32.0   7.7500       0         0  32.000000        32.0   7.750000   \n",
       "\n",
       "     fare_median  \n",
       "0         7.2500  \n",
       "1        71.2833  \n",
       "2         7.9250  \n",
       "3        53.1000  \n",
       "4         8.0500  \n",
       "..           ...  \n",
       "886      13.0000  \n",
       "887      30.0000  \n",
       "888      23.4500  \n",
       "889      14.4542  \n",
       "890       7.7500  \n",
       "\n",
       "[891 rows x 8 columns]"
      ]
     },
     "execution_count": 50,
     "metadata": {},
     "output_type": "execute_result"
    }
   ],
   "source": [
    "df['age_mean'] = df[['Age']].fillna(age_mean)\n",
    "df['age_median'] = df[['Age']].fillna(age_median)\n",
    "\n",
    "df['fare_mean'] = df[['Fare']].fillna(fare_mean)\n",
    "df['fare_median'] = df[['Fare']].fillna(fare_median)\n",
    "\n",
    "df"
   ]
  },
  {
   "cell_type": "code",
   "execution_count": 51,
   "metadata": {},
   "outputs": [
    {
     "name": "stdout",
     "output_type": "stream",
     "text": [
      "Age var :  211.0191247463081\n",
      "age_mean var :  169.05239993721085\n",
      "age_median var :  169.51249827942328\n",
      "fare var :  2530.6730768999487\n",
      "fare_mean var :  2402.717696607255\n",
      "fare_median var :  2417.971599672526\n"
     ]
    }
   ],
   "source": [
    "print(\"Age var : \",df['Age'].var())\n",
    "print(\"age_mean var : \",df['age_mean'].var())\n",
    "print(\"age_median var : \",df['age_median'].var())\n",
    "\n",
    "\n",
    "print('fare var : ',df['Fare'].var())\n",
    "print('fare_mean var : ',df['fare_mean'].var())\n",
    "print('fare_median var : ',df['fare_median'].var())\n"
   ]
  },
  {
   "cell_type": "code",
   "execution_count": 52,
   "metadata": {},
   "outputs": [
    {
     "data": {
      "text/plain": [
       "<matplotlib.legend.Legend at 0x737fbd434590>"
      ]
     },
     "execution_count": 52,
     "metadata": {},
     "output_type": "execute_result"
    },
    {
     "data": {
      "image/png": "[encoded data removed]",
      "text/plain": [
       "<Figure size 640x480 with 1 Axes>"
      ]
     },
     "metadata": {},
     "output_type": "display_data"
    }
   ],
   "source": [
    "fig = plt.figure()\n",
    "ax = fig.add_subplot()\n",
    "\n",
    "# orginal data\n",
    "df['Age'].plot(kind='kde')\n",
    "\n",
    "# mean imputation\n",
    "df['age_mean'].plot(kind='kde',color='red')\n",
    "\n",
    "# median imputation\n",
    "df['age_median'].plot(kind='kde',color='green')\n",
    "\n",
    "plt.legend()"
   ]
  },
  {
   "cell_type": "code",
   "execution_count": 53,
   "metadata": {},
   "outputs": [
    {
     "data": {
      "text/plain": [
       "<matplotlib.legend.Legend at 0x737fbd25c490>"
      ]
     },
     "execution_count": 53,
     "metadata": {},
     "output_type": "execute_result"
    },
    {
     "data": {
      "image/png": "[encoded data removed]",
      "text/plain": [
       "<Figure size 640x480 with 1 Axes>"
      ]
     },
     "metadata": {},
     "output_type": "display_data"
    }
   ],
   "source": [
    "fig = plt.figure()\n",
    "ax = fig.add_subplot()\n",
    "\n",
    "# original data \n",
    "df['Fare'].plot(kind='kde')\n",
    "\n",
    "# mean imputaion\n",
    "df['fare_mean'].plot(kind='kde',color='red')\n",
    "\n",
    "# median imputation\n",
    "df['fare_median'].plot(kind='kde',color='green')\n",
    "plt.legend()"
   ]
  },
  {
   "cell_type": "code",
   "execution_count": 54,
   "metadata": {},
   "outputs": [
    {
     "data": {
      "text/plain": [
       "<Axes: >"
      ]
     },
     "execution_count": 54,
     "metadata": {},
     "output_type": "execute_result"
    },
    {
     "data": {
      "image/png": "[encoded data removed]",
      "text/plain": [
       "<Figure size 640x480 with 1 Axes>"
      ]
     },
     "metadata": {},
     "output_type": "display_data"
    }
   ],
   "source": [
    "df[['Age','age_mean','age_median']].boxplot()\n",
    "# in age outliers are increased"
   ]
  },
  {
   "cell_type": "code",
   "execution_count": 55,
   "metadata": {},
   "outputs": [
    {
     "data": {
      "text/plain": [
       "<Axes: >"
      ]
     },
     "execution_count": 55,
     "metadata": {},
     "output_type": "execute_result"
    },
    {
     "data": {
      "image/png": "[encoded data removed]",
      "text/plain": [
       "<Figure size 640x480 with 1 Axes>"
      ]
     },
     "metadata": {},
     "output_type": "display_data"
    }
   ],
   "source": [
    "df[['Fare','fare_mean','fare_median']].boxplot()\n",
    "# there is no change in outliers of fare after imputation"
   ]
  },
  {
   "cell_type": "code",
   "execution_count": 56,
   "metadata": {},
   "outputs": [
    {
     "data": {
      "text/html": [
       "<div>\n",
       "<style scoped>\n",
       "    .dataframe tbody tr th:only-of-type {\n",
       "        vertical-align: middle;\n",
       "    }\n",
       "\n",
       "    .dataframe tbody tr th {\n",
       "        vertical-align: top;\n",
       "    }\n",
       "\n",
       "    .dataframe thead th {\n",
       "        text-align: right;\n",
       "    }\n",
       "</style>\n",
       "<table border=\"1\" class=\"dataframe\">\n",
       "  <thead>\n",
       "    <tr style=\"text-align: right;\">\n",
       "      <th></th>\n",
       "      <th>Age</th>\n",
       "      <th>Fare</th>\n",
       "      <th>Family</th>\n",
       "      <th>Survived</th>\n",
       "      <th>age_mean</th>\n",
       "      <th>age_median</th>\n",
       "      <th>fare_mean</th>\n",
       "      <th>fare_median</th>\n",
       "    </tr>\n",
       "  </thead>\n",
       "  <tbody>\n",
       "    <tr>\n",
       "      <th>Age</th>\n",
       "      <td>211.019125</td>\n",
       "      <td>78.071438</td>\n",
       "      <td>-6.507525</td>\n",
       "      <td>-0.551296</td>\n",
       "      <td>211.019125</td>\n",
       "      <td>211.019125</td>\n",
       "      <td>73.727862</td>\n",
       "      <td>73.196997</td>\n",
       "    </tr>\n",
       "    <tr>\n",
       "      <th>Fare</th>\n",
       "      <td>78.071438</td>\n",
       "      <td>2530.673077</td>\n",
       "      <td>17.460363</td>\n",
       "      <td>6.442361</td>\n",
       "      <td>62.210610</td>\n",
       "      <td>65.546143</td>\n",
       "      <td>2530.673077</td>\n",
       "      <td>2530.673077</td>\n",
       "    </tr>\n",
       "    <tr>\n",
       "      <th>Family</th>\n",
       "      <td>-6.507525</td>\n",
       "      <td>17.460363</td>\n",
       "      <td>2.603248</td>\n",
       "      <td>0.013063</td>\n",
       "      <td>-5.213332</td>\n",
       "      <td>-5.159658</td>\n",
       "      <td>16.577535</td>\n",
       "      <td>16.611725</td>\n",
       "    </tr>\n",
       "    <tr>\n",
       "      <th>Survived</th>\n",
       "      <td>-0.551296</td>\n",
       "      <td>6.442361</td>\n",
       "      <td>0.013063</td>\n",
       "      <td>0.236772</td>\n",
       "      <td>-0.441656</td>\n",
       "      <td>-0.411226</td>\n",
       "      <td>6.116624</td>\n",
       "      <td>6.021945</td>\n",
       "    </tr>\n",
       "    <tr>\n",
       "      <th>age_mean</th>\n",
       "      <td>211.019125</td>\n",
       "      <td>62.210610</td>\n",
       "      <td>-5.213332</td>\n",
       "      <td>-0.441656</td>\n",
       "      <td>169.052400</td>\n",
       "      <td>169.052400</td>\n",
       "      <td>59.065130</td>\n",
       "      <td>58.639842</td>\n",
       "    </tr>\n",
       "    <tr>\n",
       "      <th>age_median</th>\n",
       "      <td>211.019125</td>\n",
       "      <td>65.546143</td>\n",
       "      <td>-5.159658</td>\n",
       "      <td>-0.411226</td>\n",
       "      <td>169.052400</td>\n",
       "      <td>169.512498</td>\n",
       "      <td>62.232012</td>\n",
       "      <td>61.706696</td>\n",
       "    </tr>\n",
       "    <tr>\n",
       "      <th>fare_mean</th>\n",
       "      <td>73.727862</td>\n",
       "      <td>2530.673077</td>\n",
       "      <td>16.577535</td>\n",
       "      <td>6.116624</td>\n",
       "      <td>59.065130</td>\n",
       "      <td>62.232012</td>\n",
       "      <td>2402.717697</td>\n",
       "      <td>2402.717697</td>\n",
       "    </tr>\n",
       "    <tr>\n",
       "      <th>fare_median</th>\n",
       "      <td>73.196997</td>\n",
       "      <td>2530.673077</td>\n",
       "      <td>16.611725</td>\n",
       "      <td>6.021945</td>\n",
       "      <td>58.639842</td>\n",
       "      <td>61.706696</td>\n",
       "      <td>2402.717697</td>\n",
       "      <td>2417.971600</td>\n",
       "    </tr>\n",
       "  </tbody>\n",
       "</table>\n",
       "</div>"
      ],
      "text/plain": [
       "                    Age         Fare     Family  Survived    age_mean  \\\n",
       "Age          211.019125    78.071438  -6.507525 -0.551296  211.019125   \n",
       "Fare          78.071438  2530.673077  17.460363  6.442361   62.210610   \n",
       "Family        -6.507525    17.460363   2.603248  0.013063   -5.213332   \n",
       "Survived      -0.551296     6.442361   0.013063  0.236772   -0.441656   \n",
       "age_mean     211.019125    62.210610  -5.213332 -0.441656  169.052400   \n",
       "age_median   211.019125    65.546143  -5.159658 -0.411226  169.052400   \n",
       "fare_mean     73.727862  2530.673077  16.577535  6.116624   59.065130   \n",
       "fare_median   73.196997  2530.673077  16.611725  6.021945   58.639842   \n",
       "\n",
       "             age_median    fare_mean  fare_median  \n",
       "Age          211.019125    73.727862    73.196997  \n",
       "Fare          65.546143  2530.673077  2530.673077  \n",
       "Family        -5.159658    16.577535    16.611725  \n",
       "Survived      -0.411226     6.116624     6.021945  \n",
       "age_mean     169.052400    59.065130    58.639842  \n",
       "age_median   169.512498    62.232012    61.706696  \n",
       "fare_mean     62.232012  2402.717697  2402.717697  \n",
       "fare_median   61.706696  2402.717697  2417.971600  "
      ]
     },
     "execution_count": 56,
     "metadata": {},
     "output_type": "execute_result"
    }
   ],
   "source": [
    "df.cov()"
   ]
  },
  {
   "cell_type": "code",
   "execution_count": 57,
   "metadata": {},
   "outputs": [
    {
     "data": {
      "text/html": [
       "<div>\n",
       "<style scoped>\n",
       "    .dataframe tbody tr th:only-of-type {\n",
       "        vertical-align: middle;\n",
       "    }\n",
       "\n",
       "    .dataframe tbody tr th {\n",
       "        vertical-align: top;\n",
       "    }\n",
       "\n",
       "    .dataframe thead th {\n",
       "        text-align: right;\n",
       "    }\n",
       "</style>\n",
       "<table border=\"1\" class=\"dataframe\">\n",
       "  <thead>\n",
       "    <tr style=\"text-align: right;\">\n",
       "      <th></th>\n",
       "      <th>Age</th>\n",
       "      <th>Fare</th>\n",
       "      <th>Family</th>\n",
       "      <th>Survived</th>\n",
       "      <th>age_mean</th>\n",
       "      <th>age_median</th>\n",
       "      <th>fare_mean</th>\n",
       "      <th>fare_median</th>\n",
       "    </tr>\n",
       "  </thead>\n",
       "  <tbody>\n",
       "    <tr>\n",
       "      <th>Age</th>\n",
       "      <td>1.000000</td>\n",
       "      <td>0.099481</td>\n",
       "      <td>-0.301914</td>\n",
       "      <td>-0.077221</td>\n",
       "      <td>1.000000</td>\n",
       "      <td>1.000000</td>\n",
       "      <td>0.097273</td>\n",
       "      <td>0.096203</td>\n",
       "    </tr>\n",
       "    <tr>\n",
       "      <th>Fare</th>\n",
       "      <td>0.099481</td>\n",
       "      <td>1.000000</td>\n",
       "      <td>0.212626</td>\n",
       "      <td>0.263920</td>\n",
       "      <td>0.094681</td>\n",
       "      <td>0.099626</td>\n",
       "      <td>1.000000</td>\n",
       "      <td>1.000000</td>\n",
       "    </tr>\n",
       "    <tr>\n",
       "      <th>Family</th>\n",
       "      <td>-0.301914</td>\n",
       "      <td>0.212626</td>\n",
       "      <td>1.000000</td>\n",
       "      <td>0.016639</td>\n",
       "      <td>-0.248512</td>\n",
       "      <td>-0.245619</td>\n",
       "      <td>0.209609</td>\n",
       "      <td>0.209378</td>\n",
       "    </tr>\n",
       "    <tr>\n",
       "      <th>Survived</th>\n",
       "      <td>-0.077221</td>\n",
       "      <td>0.263920</td>\n",
       "      <td>0.016639</td>\n",
       "      <td>1.000000</td>\n",
       "      <td>-0.069809</td>\n",
       "      <td>-0.064910</td>\n",
       "      <td>0.256445</td>\n",
       "      <td>0.251678</td>\n",
       "    </tr>\n",
       "    <tr>\n",
       "      <th>age_mean</th>\n",
       "      <td>1.000000</td>\n",
       "      <td>0.094681</td>\n",
       "      <td>-0.248512</td>\n",
       "      <td>-0.069809</td>\n",
       "      <td>1.000000</td>\n",
       "      <td>0.998642</td>\n",
       "      <td>0.092676</td>\n",
       "      <td>0.091718</td>\n",
       "    </tr>\n",
       "    <tr>\n",
       "      <th>age_median</th>\n",
       "      <td>1.000000</td>\n",
       "      <td>0.099626</td>\n",
       "      <td>-0.245619</td>\n",
       "      <td>-0.064910</td>\n",
       "      <td>0.998642</td>\n",
       "      <td>1.000000</td>\n",
       "      <td>0.097513</td>\n",
       "      <td>0.096384</td>\n",
       "    </tr>\n",
       "    <tr>\n",
       "      <th>fare_mean</th>\n",
       "      <td>0.097273</td>\n",
       "      <td>1.000000</td>\n",
       "      <td>0.209609</td>\n",
       "      <td>0.256445</td>\n",
       "      <td>0.092676</td>\n",
       "      <td>0.097513</td>\n",
       "      <td>1.000000</td>\n",
       "      <td>0.996841</td>\n",
       "    </tr>\n",
       "    <tr>\n",
       "      <th>fare_median</th>\n",
       "      <td>0.096203</td>\n",
       "      <td>1.000000</td>\n",
       "      <td>0.209378</td>\n",
       "      <td>0.251678</td>\n",
       "      <td>0.091718</td>\n",
       "      <td>0.096384</td>\n",
       "      <td>0.996841</td>\n",
       "      <td>1.000000</td>\n",
       "    </tr>\n",
       "  </tbody>\n",
       "</table>\n",
       "</div>"
      ],
      "text/plain": [
       "                  Age      Fare    Family  Survived  age_mean  age_median  \\\n",
       "Age          1.000000  0.099481 -0.301914 -0.077221  1.000000    1.000000   \n",
       "Fare         0.099481  1.000000  0.212626  0.263920  0.094681    0.099626   \n",
       "Family      -0.301914  0.212626  1.000000  0.016639 -0.248512   -0.245619   \n",
       "Survived    -0.077221  0.263920  0.016639  1.000000 -0.069809   -0.064910   \n",
       "age_mean     1.000000  0.094681 -0.248512 -0.069809  1.000000    0.998642   \n",
       "age_median   1.000000  0.099626 -0.245619 -0.064910  0.998642    1.000000   \n",
       "fare_mean    0.097273  1.000000  0.209609  0.256445  0.092676    0.097513   \n",
       "fare_median  0.096203  1.000000  0.209378  0.251678  0.091718    0.096384   \n",
       "\n",
       "             fare_mean  fare_median  \n",
       "Age           0.097273     0.096203  \n",
       "Fare          1.000000     1.000000  \n",
       "Family        0.209609     0.209378  \n",
       "Survived      0.256445     0.251678  \n",
       "age_mean      0.092676     0.091718  \n",
       "age_median    0.097513     0.096384  \n",
       "fare_mean     1.000000     0.996841  \n",
       "fare_median   0.996841     1.000000  "
      ]
     },
     "execution_count": 57,
     "metadata": {},
     "output_type": "execute_result"
    }
   ],
   "source": [
    "df.corr()"
   ]
  },
  {
   "cell_type": "markdown",
   "metadata": {},
   "source": [
    "### by sklean"
   ]
  },
  {
   "cell_type": "code",
   "execution_count": 58,
   "metadata": {},
   "outputs": [],
   "source": [
    "df = pd.read_csv('titanic_toy.csv')\n",
    "x = df.drop(['Survived'],axis=1)\n",
    "y = df[['Survived']]"
   ]
  },
  {
   "cell_type": "code",
   "execution_count": 59,
   "metadata": {},
   "outputs": [],
   "source": [
    "from sklearn.model_selection import train_test_split\n",
    "\n",
    "x_train,x_test,y_train,y_test = train_test_split(x,y)"
   ]
  },
  {
   "cell_type": "code",
   "execution_count": 60,
   "metadata": {},
   "outputs": [],
   "source": [
    "from sklearn.compose import ColumnTransformer\n",
    "from sklearn.impute import SimpleImputer\n",
    "\n",
    "trf_age = SimpleImputer(strategy='mean')\n",
    "trf_fare = SimpleImputer(strategy='median')\n",
    "\n",
    "trf = ColumnTransformer([\n",
    "    ('trf1',trf_age,['Age']),\n",
    "    ('trf2',trf_fare,['Fare'])\n",
    "],remainder='passthrough')\n",
    "\n",
    "x_train_imputed = trf.fit_transform(x_train)\n",
    "x_test_imputed = trf.transform(x_test)"
   ]
  },
  {
   "cell_type": "code",
   "execution_count": 61,
   "metadata": {},
   "outputs": [
    {
     "data": {
      "text/plain": [
       "array([[  3.        ,  41.5792    ,   3.        ],\n",
       "       [ 29.19753704,   0.        ,   0.        ],\n",
       "       [ 23.        ,  11.5       ,   3.        ],\n",
       "       ...,\n",
       "       [ 25.        ,   7.05      ,   0.        ],\n",
       "       [ 31.        , 164.8667    ,   2.        ],\n",
       "       [ 30.        ,   9.5       ,   0.        ]])"
      ]
     },
     "execution_count": 61,
     "metadata": {},
     "output_type": "execute_result"
    }
   ],
   "source": [
    "x_train_imputed"
   ]
  },
  {
   "cell_type": "code",
   "execution_count": null,
   "metadata": {},
   "outputs": [],
   "source": []
  }
 ],
 "metadata": {
  "kernelspec": {
   "display_name": "base",
   "language": "python",
   "name": "python3"
  },
  "language_info": {
   "codemirror_mode": {
    "name": "ipython",
    "version": 3
   },
   "file_extension": ".py",
   "mimetype": "text/x-python",
   "name": "python",
   "nbconvert_exporter": "python",
   "pygments_lexer": "ipython3",
   "version": "3.11.5"
  }
 },
 "nbformat": 4,
 "nbformat_minor": 2
}
