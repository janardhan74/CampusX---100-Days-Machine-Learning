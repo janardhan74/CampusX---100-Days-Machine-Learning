{
 "cells": [
  {
   "cell_type": "code",
   "execution_count": 1,
   "id": "001935b8-8d8f-49a4-bee7-cedea87ebf65",
   "metadata": {},
   "outputs": [],
   "source": [
    "import pandas as pd\n",
    "import numpy as np\n",
    "from sklearn.datasets import load_diabetes\n",
    "from sklearn.linear_model import Ridge"
   ]
  },
  {
   "cell_type": "code",
   "execution_count": 2,
   "id": "043ee145-137a-4d6b-8716-c12c10fcbb8a",
   "metadata": {},
   "outputs": [],
   "source": [
    "x,y = load_diabetes(return_X_y=True)"
   ]
  },
  {
   "cell_type": "code",
   "execution_count": 3,
   "id": "ea62488e-9b6a-4163-a108-f1f10fca03ab",
   "metadata": {},
   "outputs": [
    {
     "data": {
      "text/plain": [
       "((442, 10), (442,))"
      ]
     },
     "execution_count": 3,
     "metadata": {},
     "output_type": "execute_result"
    }
   ],
   "source": [
    "x.shape,y.shape"
   ]
  },
  {
   "cell_type": "code",
   "execution_count": 9,
   "id": "07d435de-8e6e-4626-bc36-f1ec8101af08",
   "metadata": {},
   "outputs": [],
   "source": [
    "from sklearn.model_selection import train_test_split\n",
    "x_train,x_test,y_train,y_test = train_test_split(x,y,test_size=0.2,random_state=4)"
   ]
  },
  {
   "cell_type": "code",
   "execution_count": 10,
   "id": "016c9c34-655b-44f8-ab2f-d8ee4e899cb2",
   "metadata": {},
   "outputs": [
    {
     "data": {
      "text/plain": [
       "(150.89053425602808,\n",
       " array([  44.02063391, -241.69329987,  452.98665299,  332.04420177,\n",
       "         -76.33686744,  -68.52143809, -164.98809083,  149.96908118,\n",
       "         431.61347417,   58.51862681]))"
      ]
     },
     "execution_count": 10,
     "metadata": {},
     "output_type": "execute_result"
    }
   ],
   "source": [
    "ridge= Ridge(alpha=0.1,solver='cholesky')\n",
    "# cholesky is the solver type -> it means it uses same formula we using next to train data\n",
    "ridge.fit(x_train,y_train)\n",
    "ridge.intercept_,ridge.coef_"
   ]
  },
  {
   "cell_type": "markdown",
   "id": "2a36201f-de1d-4135-898d-73824c8aaa8e",
   "metadata": {},
   "source": [
    "### creating own class for Ridge Regression for nD data"
   ]
  },
  {
   "cell_type": "code",
   "execution_count": 11,
   "id": "7e366c2a-89f0-4f80-ae5c-6120924218b8",
   "metadata": {},
   "outputs": [],
   "source": [
    "class MeraRidge:\n",
    "    def __init__(self,alpha=0.1):\n",
    "        self.alpha = alpha\n",
    "        self.intercept_ = None\n",
    "        self.coef_ = None\n",
    "    def fit(self,x_train,y_train):\n",
    "        np.insert(x_train,0,1,axis=1)\n",
    "        I = np.identity(x_train.shape[1])\n",
    "        I[0][0] = 0 # it written for intercept\n",
    "        # The statement I[0][0] = 0 is likely setting the regularization strength for the bias term to zero. Regularization is a technique used to prevent overfitting in a model by penalizing large coefficients. However, the comment suggests that the bias term, which represents the baseline value of the target variable when all input features are zero, should not be heavily regularized.\n",
    "        # In simpler terms, the bias term is essential for capturing the inherent value of the target variable when there's no influence from the input features. By setting its regularization strength to zero, the model is allowed to keep this baseline value without being penalized too much, as it's crucial for accurate predictions.\n",
    "        result = np.linalg.inv(np.dot(x_train.T,x_train)+self.alpha*I).dot(x_train.T).dot(y_train)\n",
    "        self.intercept_ = result[0]\n",
    "        self.coef_ = result[1:]\n",
    "\n",
    "    def predict(self,x_test):\n",
    "        return np.dot(x_test,self.coef_)+self.intercept_\n",
    "        "
   ]
  },
  {
   "cell_type": "code",
   "execution_count": 12,
   "id": "69d2dee5-5b59-4933-8ef1-8910b802ce08",
   "metadata": {},
   "outputs": [],
   "source": [
    "ridge = MeraRidge()\n",
    "ridge.fit(x_train,y_train)"
   ]
  },
  {
   "cell_type": "code",
   "execution_count": 13,
   "id": "b4a0ea96-a710-4596-a7d1-51453b8db623",
   "metadata": {},
   "outputs": [
    {
     "data": {
      "text/plain": [
       "(139.41372371164206,\n",
       " array([-338.06459457,  470.30012291,  385.53929577,  -39.84924234,\n",
       "        -166.05688204, -266.67914439,   46.81554258,  364.46939984,\n",
       "         146.37862919]))"
      ]
     },
     "execution_count": 13,
     "metadata": {},
     "output_type": "execute_result"
    }
   ],
   "source": [
    "ridge.intercept_,ridge.coef_"
   ]
  },
  {
   "cell_type": "code",
   "execution_count": null,
   "id": "b214532a-c4a3-439b-a347-810a47a7b6ea",
   "metadata": {},
   "outputs": [],
   "source": []
  }
 ],
 "metadata": {
  "kernelspec": {
   "display_name": "Python 3 (ipykernel)",
   "language": "python",
   "name": "python3"
  },
  "language_info": {
   "codemirror_mode": {
    "name": "ipython",
    "version": 3
   },
   "file_extension": ".py",
   "mimetype": "text/x-python",
   "name": "python",
   "nbconvert_exporter": "python",
   "pygments_lexer": "ipython3",
   "version": "3.12.3"
  }
 },
 "nbformat": 4,
 "nbformat_minor": 5
}
